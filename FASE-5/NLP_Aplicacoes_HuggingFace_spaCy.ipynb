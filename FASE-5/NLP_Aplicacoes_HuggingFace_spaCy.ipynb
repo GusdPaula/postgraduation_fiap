{
  "cells": [
    {
      "cell_type": "markdown",
      "metadata": {
        "id": "view-in-github",
        "colab_type": "text"
      },
      "source": [
        "<a href=\"https://colab.research.google.com/github/GusdPaula/postgraduation_fiap/blob/main/FASE-5/NLP_Aplicacoes_HuggingFace_spaCy.ipynb\" target=\"_parent\"><img src=\"https://colab.research.google.com/assets/colab-badge.svg\" alt=\"Open In Colab\"/></a>"
      ]
    },
    {
      "cell_type": "markdown",
      "id": "2ae1f4a6",
      "metadata": {
        "id": "2ae1f4a6"
      },
      "source": [
        "# Aplicações Práticas de NLP com Hugging Face e spaCy"
      ]
    },
    {
      "cell_type": "markdown",
      "id": "d58a49c1",
      "metadata": {
        "id": "d58a49c1"
      },
      "source": [
        "Este notebook demonstra diversas aplicações de Processamento de Linguagem Natural (NLP) utilizando modelos prontos da Hugging Face e spaCy."
      ]
    },
    {
      "cell_type": "code",
      "execution_count": null,
      "id": "3fd6c318",
      "metadata": {
        "id": "3fd6c318"
      },
      "outputs": [],
      "source": [
        "# !pip install transformers"
      ]
    },
    {
      "cell_type": "markdown",
      "id": "a6b92267",
      "metadata": {
        "id": "a6b92267"
      },
      "source": [
        "## 1. Análise de Sentimentos"
      ]
    },
    {
      "cell_type": "code",
      "execution_count": null,
      "id": "f3bb192f",
      "metadata": {
        "id": "f3bb192f",
        "outputId": "dc22541f-0ad2-45ce-8412-b60447f3856d"
      },
      "outputs": [
        {
          "name": "stderr",
          "output_type": "stream",
          "text": [
            "Device set to use cuda:0\n"
          ]
        },
        {
          "data": {
            "text/plain": [
              "[{'label': 'POSITIVE', 'score': 0.990990161895752}]"
            ]
          },
          "execution_count": 13,
          "metadata": {},
          "output_type": "execute_result"
        }
      ],
      "source": [
        "from transformers import pipeline\n",
        "\n",
        "analyzer = pipeline(\n",
        "    \"sentiment-analysis\", model=\"distilbert-base-uncased-finetuned-sst-2-english\"\n",
        ")\n",
        "analyzer(\"Este produto é excelente, recomendo muito!\")"
      ]
    },
    {
      "cell_type": "code",
      "execution_count": null,
      "id": "f455e374",
      "metadata": {
        "id": "f455e374",
        "outputId": "63a0bc1c-5316-4879-99ac-812cb3804f29"
      },
      "outputs": [
        {
          "data": {
            "text/plain": [
              "[{'label': 'POSITIVE', 'score': 0.5387459993362427}]"
            ]
          },
          "execution_count": 15,
          "metadata": {},
          "output_type": "execute_result"
        }
      ],
      "source": [
        "analyzer(\"Este produto não é recomendado, não recomendo!\")"
      ]
    },
    {
      "cell_type": "markdown",
      "id": "a6783b2f",
      "metadata": {
        "id": "a6783b2f"
      },
      "source": [
        "## 2. Classificação de Texto\n"
      ]
    },
    {
      "cell_type": "code",
      "execution_count": null,
      "id": "94bdef75",
      "metadata": {
        "id": "94bdef75",
        "outputId": "890f035a-6f6d-4689-9174-ebe6bfb24e34"
      },
      "outputs": [
        {
          "name": "stderr",
          "output_type": "stream",
          "text": [
            "Device set to use cuda:0\n"
          ]
        },
        {
          "data": {
            "text/plain": [
              "[{'label': 'POSITIVE', 'score': 0.9998828172683716}]"
            ]
          },
          "execution_count": 16,
          "metadata": {},
          "output_type": "execute_result"
        }
      ],
      "source": [
        "classifier = pipeline(\n",
        "    \"text-classification\", model=\"distilbert-base-uncased-finetuned-sst-2-english\"\n",
        ")\n",
        "classifier(\"I loved the movie, it was amazing!\")"
      ]
    },
    {
      "cell_type": "markdown",
      "id": "7a5fb32d",
      "metadata": {
        "id": "7a5fb32d"
      },
      "source": [
        "## 3. Chatbot / Assistente Virtual"
      ]
    },
    {
      "cell_type": "code",
      "execution_count": null,
      "id": "e0ff2e22",
      "metadata": {
        "id": "e0ff2e22",
        "outputId": "1bed5db6-a327-4a2f-c8bf-28fb48262070"
      },
      "outputs": [
        {
          "name": "stderr",
          "output_type": "stream",
          "text": [
            "Device set to use cuda:0\n",
            "Setting `pad_token_id` to `eos_token_id`:50256 for open-end generation.\n"
          ]
        },
        {
          "data": {
            "text/plain": [
              "[{'generated_text': 'Usuário: Olá, tudo bem?\\nBot: Ol, bem.'}]"
            ]
          },
          "execution_count": 17,
          "metadata": {},
          "output_type": "execute_result"
        }
      ],
      "source": [
        "chatbot = pipeline(\"text-generation\", model=\"microsoft/DialoGPT-medium\")\n",
        "chatbot(\"Usuário: Olá, tudo bem?\\nBot:\", max_new_tokens=50)"
      ]
    },
    {
      "cell_type": "code",
      "execution_count": null,
      "id": "7e46f567",
      "metadata": {
        "id": "7e46f567",
        "outputId": "3ba3c0d1-e0ce-4837-a691-25f48cff8b2a"
      },
      "outputs": [
        {
          "name": "stderr",
          "output_type": "stream",
          "text": [
            "Setting `pad_token_id` to `eos_token_id`:50256 for open-end generation.\n"
          ]
        },
        {
          "data": {
            "text/plain": [
              "[{'generated_text': 'Hello, how are you? ive been thinking about getting a new job.'}]"
            ]
          },
          "execution_count": 18,
          "metadata": {},
          "output_type": "execute_result"
        }
      ],
      "source": [
        "chatbot(\"Hello, how are you? \")"
      ]
    },
    {
      "cell_type": "markdown",
      "id": "8e6c8e81",
      "metadata": {
        "id": "8e6c8e81"
      },
      "source": [
        "## 4. Reconhecimento de Entidades Nomeadas (NER)\n"
      ]
    },
    {
      "cell_type": "code",
      "execution_count": null,
      "id": "c26c69dd",
      "metadata": {
        "id": "c26c69dd"
      },
      "outputs": [],
      "source": [
        "!pip install spacy\n",
        "!python -m spacy download en_core_web_sm"
      ]
    },
    {
      "cell_type": "code",
      "execution_count": null,
      "id": "e2ceef0d",
      "metadata": {
        "id": "e2ceef0d",
        "outputId": "ca37937e-6787-44e4-c14a-fd66abafeb4b"
      },
      "outputs": [
        {
          "data": {
            "text/plain": [
              "[('Apple', 'ORG'), ('U.K.', 'GPE'), ('$1 billion', 'MONEY')]"
            ]
          },
          "execution_count": 19,
          "metadata": {},
          "output_type": "execute_result"
        }
      ],
      "source": [
        "import spacy\n",
        "\n",
        "nlp = spacy.load(\"en_core_web_sm\")\n",
        "doc = nlp(\"Apple is looking at buying U.K. startup for $1 billion\")\n",
        "[(ent.text, ent.label_) for ent in doc.ents]"
      ]
    },
    {
      "cell_type": "markdown",
      "id": "108db52c",
      "metadata": {
        "id": "108db52c"
      },
      "source": [
        "## 5. Tradução Automática"
      ]
    },
    {
      "cell_type": "code",
      "execution_count": null,
      "id": "3d24055c",
      "metadata": {
        "id": "3d24055c",
        "outputId": "1b33764a-86f9-4bbd-db06-4c429ccd3c97"
      },
      "outputs": [
        {
          "name": "stderr",
          "output_type": "stream",
          "text": [
            "No model was supplied, defaulted to google-t5/t5-base and revision a9723ea (https://huggingface.co/google-t5/t5-base).\n",
            "Using a pipeline without specifying a model name and revision in production is not recommended.\n",
            "Device set to use cuda:0\n"
          ]
        },
        {
          "data": {
            "text/plain": [
              "[{'translation_text': \"L'apprentissage automatique révolutionne les industries.\"}]"
            ]
          },
          "execution_count": 20,
          "metadata": {},
          "output_type": "execute_result"
        }
      ],
      "source": [
        "translator = pipeline(\"translation_en_to_fr\")\n",
        "translator(\"Machine learning is revolutionizing industries.\", max_length=40)"
      ]
    },
    {
      "cell_type": "markdown",
      "id": "c7aa66dd",
      "metadata": {
        "id": "c7aa66dd"
      },
      "source": [
        "## 6. Resumo Automático"
      ]
    },
    {
      "cell_type": "code",
      "execution_count": null,
      "id": "67cc27d3",
      "metadata": {
        "id": "67cc27d3",
        "outputId": "80428bdc-9411-4032-9803-0d71a9902b84"
      },
      "outputs": [
        {
          "name": "stderr",
          "output_type": "stream",
          "text": [
            "Device set to use cuda:0\n",
            "Your max_length is set to 30, but your input_length is only 22. Since this is a summarization task, where outputs shorter than the input are typically wanted, you might consider decreasing max_length manually, e.g. summarizer('...', max_length=11)\n"
          ]
        },
        {
          "data": {
            "text/plain": [
              "[{'summary_text': 'Natural Language Processing is a branch of artificial intelligence that helps computers understand, interpret and manipulate human language.'}]"
            ]
          },
          "execution_count": 21,
          "metadata": {},
          "output_type": "execute_result"
        }
      ],
      "source": [
        "summarizer = pipeline(\"summarization\", model=\"facebook/bart-large-cnn\")\n",
        "text = \"\"\"Natural Language Processing is a branch of artificial intelligence that helps computers understand, interpret and manipulate human language.\"\"\"\n",
        "summarizer(text, max_length=30, min_length=5, do_sample=False)"
      ]
    },
    {
      "cell_type": "code",
      "execution_count": null,
      "id": "90f95b6f",
      "metadata": {
        "id": "90f95b6f",
        "outputId": "16e1e40e-4ae3-43d3-805e-9a1226adc9ca"
      },
      "outputs": [
        {
          "data": {
            "text/plain": [
              "[{'summary_text': 'Natural Language Processing is a branch of artificial'}]"
            ]
          },
          "execution_count": 22,
          "metadata": {},
          "output_type": "execute_result"
        }
      ],
      "source": [
        "summarizer(text, max_length=11, min_length=5, do_sample=False)"
      ]
    },
    {
      "cell_type": "markdown",
      "id": "8a329564",
      "metadata": {
        "id": "8a329564"
      },
      "source": [
        "## 7. Resposta a Perguntas (QA)"
      ]
    },
    {
      "cell_type": "code",
      "execution_count": null,
      "id": "9a95dd18",
      "metadata": {
        "id": "9a95dd18",
        "outputId": "b85adab7-8d04-48d0-d367-a756d6194241"
      },
      "outputs": [
        {
          "name": "stderr",
          "output_type": "stream",
          "text": [
            "Device set to use cuda:0\n"
          ]
        },
        {
          "data": {
            "text/plain": [
              "{'score': 0.9415659308433533,\n",
              " 'start': 0,\n",
              " 'end': 15,\n",
              " 'answer': 'Albert Einstein'}"
            ]
          },
          "execution_count": 23,
          "metadata": {},
          "output_type": "execute_result"
        }
      ],
      "source": [
        "qa = pipeline(\"question-answering\", model=\"deepset/roberta-base-squad2\")\n",
        "context = \"Albert Einstein was a theoretical physicist who developed the theory of relativity.\"\n",
        "question = \"Who developed the theory of relativity?\"\n",
        "qa(question=question, context=context)"
      ]
    },
    {
      "cell_type": "code",
      "execution_count": null,
      "id": "b79fe164",
      "metadata": {
        "id": "b79fe164",
        "outputId": "655f05ba-8c97-4299-e4f0-8460d8e53037"
      },
      "outputs": [
        {
          "data": {
            "text/plain": [
              "{'score': 0.18265752494335175,\n",
              " 'start': 22,\n",
              " 'end': 43,\n",
              " 'answer': 'theoretical physicist'}"
            ]
          },
          "execution_count": 24,
          "metadata": {},
          "output_type": "execute_result"
        }
      ],
      "source": [
        "question = \"Who are you?\"\n",
        "qa(question=question, context=context)"
      ]
    },
    {
      "cell_type": "markdown",
      "id": "03d25ebc",
      "metadata": {
        "id": "03d25ebc"
      },
      "source": [
        "## 9. Busca Semântica com Embeddings"
      ]
    },
    {
      "cell_type": "code",
      "execution_count": null,
      "id": "8e729dfb",
      "metadata": {
        "id": "8e729dfb"
      },
      "outputs": [],
      "source": [
        "from sentence_transformers import SentenceTransformer, util\n",
        "\n",
        "model = SentenceTransformer('all-MiniLM-L6-v2')\n",
        "query = \"Como melhorar a produtividade no trabalho\"\n",
        "docs = [\n",
        "    \"Técnicas de produtividade\",\n",
        "    \"Receitas de bolo\",\n",
        "    \"Organização pessoal no trabalho\",\n",
        "]"
      ]
    },
    {
      "cell_type": "code",
      "execution_count": null,
      "id": "cd6cabde",
      "metadata": {
        "id": "cd6cabde"
      },
      "outputs": [],
      "source": [
        "query_emb = model.encode(query, convert_to_tensor=True)\n",
        "docs_emb = model.encode(docs, convert_to_tensor=True)"
      ]
    },
    {
      "cell_type": "code",
      "execution_count": null,
      "id": "0bc988cd",
      "metadata": {
        "id": "0bc988cd",
        "outputId": "c6c68210-59b0-4644-d150-ed01bcc27776"
      },
      "outputs": [
        {
          "data": {
            "text/plain": [
              "'Organização pessoal no trabalho'"
            ]
          },
          "execution_count": 28,
          "metadata": {},
          "output_type": "execute_result"
        }
      ],
      "source": [
        "scores = util.cos_sim(query_emb, docs_emb)\n",
        "docs[scores.argmax()]"
      ]
    },
    {
      "cell_type": "code",
      "execution_count": null,
      "id": "82ab52a5",
      "metadata": {
        "id": "82ab52a5",
        "outputId": "ae4dd439-72c7-4c80-d064-6988eec716d1"
      },
      "outputs": [
        {
          "data": {
            "text/plain": [
              "tensor([[0.6547, 0.4059, 0.7353]], device='cuda:0')"
            ]
          },
          "execution_count": 31,
          "metadata": {},
          "output_type": "execute_result"
        }
      ],
      "source": [
        "scores"
      ]
    },
    {
      "cell_type": "code",
      "execution_count": null,
      "id": "df285038",
      "metadata": {
        "id": "df285038"
      },
      "outputs": [],
      "source": [
        "db = sorted(\n",
        "    [\n",
        "        (doc, float(score))\n",
        "        for doc, score in zip(docs, scores[0])\n",
        "    ],\n",
        "    key=lambda x: x[1],\n",
        "    reverse=True\n",
        ")\n",
        "\n",
        "db = [record[0] for record in db]"
      ]
    },
    {
      "cell_type": "code",
      "execution_count": null,
      "id": "12da2014",
      "metadata": {
        "id": "12da2014",
        "outputId": "3ade4033-06f8-4366-84dc-6195400f4b8f"
      },
      "outputs": [
        {
          "data": {
            "text/plain": [
              "['Organização pessoal no trabalho',\n",
              " 'Técnicas de produtividade',\n",
              " 'Receitas de bolo']"
            ]
          },
          "execution_count": 41,
          "metadata": {},
          "output_type": "execute_result"
        }
      ],
      "source": [
        "db"
      ]
    }
  ],
  "metadata": {
    "kernelspec": {
      "display_name": ".venv",
      "language": "python",
      "name": "python3"
    },
    "language_info": {
      "codemirror_mode": {
        "name": "ipython",
        "version": 3
      },
      "file_extension": ".py",
      "mimetype": "text/x-python",
      "name": "python",
      "nbconvert_exporter": "python",
      "pygments_lexer": "ipython3",
      "version": "3.10.16"
    },
    "colab": {
      "provenance": [],
      "include_colab_link": true
    }
  },
  "nbformat": 4,
  "nbformat_minor": 5
}