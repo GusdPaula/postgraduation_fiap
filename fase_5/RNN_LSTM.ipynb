{
  "nbformat": 4,
  "nbformat_minor": 0,
  "metadata": {
    "colab": {
      "provenance": [],
      "authorship_tag": "ABX9TyOyteETzRv48G+ISlIgTfr2",
      "include_colab_link": true
    },
    "kernelspec": {
      "name": "python3",
      "display_name": "Python 3"
    },
    "language_info": {
      "name": "python"
    }
  },
  "cells": [
    {
      "cell_type": "markdown",
      "metadata": {
        "id": "view-in-github",
        "colab_type": "text"
      },
      "source": [
        "<a href=\"https://colab.research.google.com/github/GusdPaula/postgraduation_fiap/blob/main/fase_5/RNN_LSTM.ipynb\" target=\"_parent\"><img src=\"https://colab.research.google.com/assets/colab-badge.svg\" alt=\"Open In Colab\"/></a>"
      ]
    },
    {
      "cell_type": "code",
      "execution_count": null,
      "metadata": {
        "colab": {
          "base_uri": "https://localhost:8080/"
        },
        "id": "p4tcvFK29v2k",
        "outputId": "3c2dcaa6-f356-43f1-814d-a5589cdac67b"
      },
      "outputs": [
        {
          "output_type": "stream",
          "name": "stderr",
          "text": [
            "[nltk_data] Downloading package wordnet to /root/nltk_data...\n",
            "[nltk_data]   Package wordnet is already up-to-date!\n"
          ]
        }
      ],
      "source": [
        "\n",
        "# Bibliotecas básicas\n",
        "import numpy as np\n",
        "import pandas as pd\n",
        "import matplotlib.pyplot as plt\n",
        "import seaborn as sns\n",
        "#import os\n",
        "\n",
        "# Para NLP\n",
        "import re\n",
        "import nltk\n",
        "nltk.download('wordnet')\n",
        "from nltk.corpus import stopwords\n",
        "from wordcloud import STOPWORDS\n",
        "from nltk.stem.wordnet import WordNetLemmatizer\n",
        "\n",
        "# Para deep learning e validação do modelo\n",
        "import tensorflow as tf\n",
        "from tensorflow import keras\n",
        "from tensorflow.keras.callbacks import ModelCheckpoint\n",
        "from tensorflow.keras.preprocessing.text import Tokenizer\n",
        "from sklearn.model_selection import train_test_split, cross_val_score\n",
        "from tensorflow.keras.preprocessing.sequence import pad_sequences\n",
        "from tensorflow.keras.utils import to_categorical\n",
        "from sklearn.preprocessing import LabelEncoder\n",
        "\n",
        "from tensorflow.keras.layers import Embedding, Flatten, Dense, Dropout\n",
        "from keras.layers import Conv1D, SimpleRNN, Bidirectional, MaxPooling1D, GlobalMaxPool1D, LSTM, GRU\n",
        "from keras.models import Sequential\n",
        "from keras.regularizers import L1L2\n",
        "\n",
        "import warnings\n",
        "warnings.filterwarnings('ignore')"
      ]
    },
    {
      "cell_type": "code",
      "source": [
        "df = pd.read_csv(r\"https://raw.githubusercontent.com/FIAP/Pos_Tech_DTAT/5b00193e34c5955ba16b315efe415119fdce3bce/Aula%204%20-%20Redes%20Neurais%20Recorrentes/bbc-text.csv\", sep=',')"
      ],
      "metadata": {
        "id": "OJtnRMvz97ky"
      },
      "execution_count": null,
      "outputs": []
    },
    {
      "cell_type": "code",
      "source": [
        "df.head()"
      ],
      "metadata": {
        "colab": {
          "base_uri": "https://localhost:8080/",
          "height": 206
        },
        "id": "Gi8ktSX9-1jX",
        "outputId": "7c11e606-42c3-4947-9a96-f6027d04045b"
      },
      "execution_count": null,
      "outputs": [
        {
          "output_type": "execute_result",
          "data": {
            "text/plain": [
              "        category                                               text\n",
              "0           tech  tv future in the hands of viewers with home th...\n",
              "1       business  worldcom boss  left books alone  former worldc...\n",
              "2          sport  tigers wary of farrell  gamble  leicester say ...\n",
              "3          sport  yeading face newcastle in fa cup premiership s...\n",
              "4  entertainment  ocean s twelve raids box office ocean s twelve..."
            ],
            "text/html": [
              "\n",
              "  <div id=\"df-d562974c-ce4c-4c6f-9a89-72a8fda00083\" class=\"colab-df-container\">\n",
              "    <div>\n",
              "<style scoped>\n",
              "    .dataframe tbody tr th:only-of-type {\n",
              "        vertical-align: middle;\n",
              "    }\n",
              "\n",
              "    .dataframe tbody tr th {\n",
              "        vertical-align: top;\n",
              "    }\n",
              "\n",
              "    .dataframe thead th {\n",
              "        text-align: right;\n",
              "    }\n",
              "</style>\n",
              "<table border=\"1\" class=\"dataframe\">\n",
              "  <thead>\n",
              "    <tr style=\"text-align: right;\">\n",
              "      <th></th>\n",
              "      <th>category</th>\n",
              "      <th>text</th>\n",
              "    </tr>\n",
              "  </thead>\n",
              "  <tbody>\n",
              "    <tr>\n",
              "      <th>0</th>\n",
              "      <td>tech</td>\n",
              "      <td>tv future in the hands of viewers with home th...</td>\n",
              "    </tr>\n",
              "    <tr>\n",
              "      <th>1</th>\n",
              "      <td>business</td>\n",
              "      <td>worldcom boss  left books alone  former worldc...</td>\n",
              "    </tr>\n",
              "    <tr>\n",
              "      <th>2</th>\n",
              "      <td>sport</td>\n",
              "      <td>tigers wary of farrell  gamble  leicester say ...</td>\n",
              "    </tr>\n",
              "    <tr>\n",
              "      <th>3</th>\n",
              "      <td>sport</td>\n",
              "      <td>yeading face newcastle in fa cup premiership s...</td>\n",
              "    </tr>\n",
              "    <tr>\n",
              "      <th>4</th>\n",
              "      <td>entertainment</td>\n",
              "      <td>ocean s twelve raids box office ocean s twelve...</td>\n",
              "    </tr>\n",
              "  </tbody>\n",
              "</table>\n",
              "</div>\n",
              "    <div class=\"colab-df-buttons\">\n",
              "\n",
              "  <div class=\"colab-df-container\">\n",
              "    <button class=\"colab-df-convert\" onclick=\"convertToInteractive('df-d562974c-ce4c-4c6f-9a89-72a8fda00083')\"\n",
              "            title=\"Convert this dataframe to an interactive table.\"\n",
              "            style=\"display:none;\">\n",
              "\n",
              "  <svg xmlns=\"http://www.w3.org/2000/svg\" height=\"24px\" viewBox=\"0 -960 960 960\">\n",
              "    <path d=\"M120-120v-720h720v720H120Zm60-500h600v-160H180v160Zm220 220h160v-160H400v160Zm0 220h160v-160H400v160ZM180-400h160v-160H180v160Zm440 0h160v-160H620v160ZM180-180h160v-160H180v160Zm440 0h160v-160H620v160Z\"/>\n",
              "  </svg>\n",
              "    </button>\n",
              "\n",
              "  <style>\n",
              "    .colab-df-container {\n",
              "      display:flex;\n",
              "      gap: 12px;\n",
              "    }\n",
              "\n",
              "    .colab-df-convert {\n",
              "      background-color: #E8F0FE;\n",
              "      border: none;\n",
              "      border-radius: 50%;\n",
              "      cursor: pointer;\n",
              "      display: none;\n",
              "      fill: #1967D2;\n",
              "      height: 32px;\n",
              "      padding: 0 0 0 0;\n",
              "      width: 32px;\n",
              "    }\n",
              "\n",
              "    .colab-df-convert:hover {\n",
              "      background-color: #E2EBFA;\n",
              "      box-shadow: 0px 1px 2px rgba(60, 64, 67, 0.3), 0px 1px 3px 1px rgba(60, 64, 67, 0.15);\n",
              "      fill: #174EA6;\n",
              "    }\n",
              "\n",
              "    .colab-df-buttons div {\n",
              "      margin-bottom: 4px;\n",
              "    }\n",
              "\n",
              "    [theme=dark] .colab-df-convert {\n",
              "      background-color: #3B4455;\n",
              "      fill: #D2E3FC;\n",
              "    }\n",
              "\n",
              "    [theme=dark] .colab-df-convert:hover {\n",
              "      background-color: #434B5C;\n",
              "      box-shadow: 0px 1px 3px 1px rgba(0, 0, 0, 0.15);\n",
              "      filter: drop-shadow(0px 1px 2px rgba(0, 0, 0, 0.3));\n",
              "      fill: #FFFFFF;\n",
              "    }\n",
              "  </style>\n",
              "\n",
              "    <script>\n",
              "      const buttonEl =\n",
              "        document.querySelector('#df-d562974c-ce4c-4c6f-9a89-72a8fda00083 button.colab-df-convert');\n",
              "      buttonEl.style.display =\n",
              "        google.colab.kernel.accessAllowed ? 'block' : 'none';\n",
              "\n",
              "      async function convertToInteractive(key) {\n",
              "        const element = document.querySelector('#df-d562974c-ce4c-4c6f-9a89-72a8fda00083');\n",
              "        const dataTable =\n",
              "          await google.colab.kernel.invokeFunction('convertToInteractive',\n",
              "                                                    [key], {});\n",
              "        if (!dataTable) return;\n",
              "\n",
              "        const docLinkHtml = 'Like what you see? Visit the ' +\n",
              "          '<a target=\"_blank\" href=https://colab.research.google.com/notebooks/data_table.ipynb>data table notebook</a>'\n",
              "          + ' to learn more about interactive tables.';\n",
              "        element.innerHTML = '';\n",
              "        dataTable['output_type'] = 'display_data';\n",
              "        await google.colab.output.renderOutput(dataTable, element);\n",
              "        const docLink = document.createElement('div');\n",
              "        docLink.innerHTML = docLinkHtml;\n",
              "        element.appendChild(docLink);\n",
              "      }\n",
              "    </script>\n",
              "  </div>\n",
              "\n",
              "\n",
              "<div id=\"df-63e2a15d-071c-4211-9511-b46f57dc051a\">\n",
              "  <button class=\"colab-df-quickchart\" onclick=\"quickchart('df-63e2a15d-071c-4211-9511-b46f57dc051a')\"\n",
              "            title=\"Suggest charts\"\n",
              "            style=\"display:none;\">\n",
              "\n",
              "<svg xmlns=\"http://www.w3.org/2000/svg\" height=\"24px\"viewBox=\"0 0 24 24\"\n",
              "     width=\"24px\">\n",
              "    <g>\n",
              "        <path d=\"M19 3H5c-1.1 0-2 .9-2 2v14c0 1.1.9 2 2 2h14c1.1 0 2-.9 2-2V5c0-1.1-.9-2-2-2zM9 17H7v-7h2v7zm4 0h-2V7h2v10zm4 0h-2v-4h2v4z\"/>\n",
              "    </g>\n",
              "</svg>\n",
              "  </button>\n",
              "\n",
              "<style>\n",
              "  .colab-df-quickchart {\n",
              "      --bg-color: #E8F0FE;\n",
              "      --fill-color: #1967D2;\n",
              "      --hover-bg-color: #E2EBFA;\n",
              "      --hover-fill-color: #174EA6;\n",
              "      --disabled-fill-color: #AAA;\n",
              "      --disabled-bg-color: #DDD;\n",
              "  }\n",
              "\n",
              "  [theme=dark] .colab-df-quickchart {\n",
              "      --bg-color: #3B4455;\n",
              "      --fill-color: #D2E3FC;\n",
              "      --hover-bg-color: #434B5C;\n",
              "      --hover-fill-color: #FFFFFF;\n",
              "      --disabled-bg-color: #3B4455;\n",
              "      --disabled-fill-color: #666;\n",
              "  }\n",
              "\n",
              "  .colab-df-quickchart {\n",
              "    background-color: var(--bg-color);\n",
              "    border: none;\n",
              "    border-radius: 50%;\n",
              "    cursor: pointer;\n",
              "    display: none;\n",
              "    fill: var(--fill-color);\n",
              "    height: 32px;\n",
              "    padding: 0;\n",
              "    width: 32px;\n",
              "  }\n",
              "\n",
              "  .colab-df-quickchart:hover {\n",
              "    background-color: var(--hover-bg-color);\n",
              "    box-shadow: 0 1px 2px rgba(60, 64, 67, 0.3), 0 1px 3px 1px rgba(60, 64, 67, 0.15);\n",
              "    fill: var(--button-hover-fill-color);\n",
              "  }\n",
              "\n",
              "  .colab-df-quickchart-complete:disabled,\n",
              "  .colab-df-quickchart-complete:disabled:hover {\n",
              "    background-color: var(--disabled-bg-color);\n",
              "    fill: var(--disabled-fill-color);\n",
              "    box-shadow: none;\n",
              "  }\n",
              "\n",
              "  .colab-df-spinner {\n",
              "    border: 2px solid var(--fill-color);\n",
              "    border-color: transparent;\n",
              "    border-bottom-color: var(--fill-color);\n",
              "    animation:\n",
              "      spin 1s steps(1) infinite;\n",
              "  }\n",
              "\n",
              "  @keyframes spin {\n",
              "    0% {\n",
              "      border-color: transparent;\n",
              "      border-bottom-color: var(--fill-color);\n",
              "      border-left-color: var(--fill-color);\n",
              "    }\n",
              "    20% {\n",
              "      border-color: transparent;\n",
              "      border-left-color: var(--fill-color);\n",
              "      border-top-color: var(--fill-color);\n",
              "    }\n",
              "    30% {\n",
              "      border-color: transparent;\n",
              "      border-left-color: var(--fill-color);\n",
              "      border-top-color: var(--fill-color);\n",
              "      border-right-color: var(--fill-color);\n",
              "    }\n",
              "    40% {\n",
              "      border-color: transparent;\n",
              "      border-right-color: var(--fill-color);\n",
              "      border-top-color: var(--fill-color);\n",
              "    }\n",
              "    60% {\n",
              "      border-color: transparent;\n",
              "      border-right-color: var(--fill-color);\n",
              "    }\n",
              "    80% {\n",
              "      border-color: transparent;\n",
              "      border-right-color: var(--fill-color);\n",
              "      border-bottom-color: var(--fill-color);\n",
              "    }\n",
              "    90% {\n",
              "      border-color: transparent;\n",
              "      border-bottom-color: var(--fill-color);\n",
              "    }\n",
              "  }\n",
              "</style>\n",
              "\n",
              "  <script>\n",
              "    async function quickchart(key) {\n",
              "      const quickchartButtonEl =\n",
              "        document.querySelector('#' + key + ' button');\n",
              "      quickchartButtonEl.disabled = true;  // To prevent multiple clicks.\n",
              "      quickchartButtonEl.classList.add('colab-df-spinner');\n",
              "      try {\n",
              "        const charts = await google.colab.kernel.invokeFunction(\n",
              "            'suggestCharts', [key], {});\n",
              "      } catch (error) {\n",
              "        console.error('Error during call to suggestCharts:', error);\n",
              "      }\n",
              "      quickchartButtonEl.classList.remove('colab-df-spinner');\n",
              "      quickchartButtonEl.classList.add('colab-df-quickchart-complete');\n",
              "    }\n",
              "    (() => {\n",
              "      let quickchartButtonEl =\n",
              "        document.querySelector('#df-63e2a15d-071c-4211-9511-b46f57dc051a button');\n",
              "      quickchartButtonEl.style.display =\n",
              "        google.colab.kernel.accessAllowed ? 'block' : 'none';\n",
              "    })();\n",
              "  </script>\n",
              "</div>\n",
              "\n",
              "    </div>\n",
              "  </div>\n"
            ],
            "application/vnd.google.colaboratory.intrinsic+json": {
              "type": "dataframe",
              "variable_name": "df",
              "summary": "{\n  \"name\": \"df\",\n  \"rows\": 2225,\n  \"fields\": [\n    {\n      \"column\": \"category\",\n      \"properties\": {\n        \"dtype\": \"category\",\n        \"num_unique_values\": 5,\n        \"samples\": [\n          \"business\",\n          \"politics\",\n          \"sport\"\n        ],\n        \"semantic_type\": \"\",\n        \"description\": \"\"\n      }\n    },\n    {\n      \"column\": \"text\",\n      \"properties\": {\n        \"dtype\": \"string\",\n        \"num_unique_values\": 2126,\n        \"samples\": [\n          \"plan to give elderly care control elderly and disabled people would choose how their own budget for personal care was spent and organised under government plans.  ministers say elderly and disabled people themselves  not social workers  should be able to decide on their care and stay in their own homes. they also plan a supremo for adult services in each english area to get different agencies working together. but the government shunned opponents  calls for free long-term care.  there are 1.7m people needing care in england and ministers suggest the number could quadruple by 2050. monday s consultation paper on social care for adults in england is aimed at ending a system which generates dependency. health minister stephen ladyman said:  this document is the antithesis of the nanny state.   it s about taking power away from the state and giving it to individuals and saying that we will help you make these decisions but we are not going to make them for you any more.  the government has already allowed local councils to give people money so they can pay for their services directly but take-up of the scheme has been  disappointing .  ministers say the new plans would make direct payments simpler and try to counter reluctance in some local councils to use the payments. they also want to set up a new  half-way house  where social workers tell people how much money is available for their care and help them choose how to spend that  individual budget . the scheme will be funded on existing budgets set until 2008. but mr ladyman said the plans could deliver savings in some areas  such as freeing up nhs beds and preventing illnesses. he ruled out free personal care in england - which is on offer in scotland and wales  saying it was  unsustainable .  david rogers  from the local government association  said agencies were working together on the kind of innovation proposed by the government. and tony hunter  president of the association of directors of social services  said the plans could improve dignity and well-being for thousands of people. but age concern argued social care was chronically under-funded and older people were being offered choice in principle  but not in practice. its director general  gordon lishman  said:  direct payments will not work if there are no services for people to choose from locally.   the tories say people who pay for three years  long-term care directly or through insurance should be guaranteed free care for the rest of their lives. tory spokesman simon burns said more than 80 000 long term care places had been lost since 1997.  after eight years of persistent change  dogmatic enforcement of regulation  and overbearing government initiatives - we need action  not a vision   said mr burns. the lib dems say they would fund free personal care by a new 50% tax rate on incomes over \\u00a3100 000. health spokesman paul burstow said:  promoting independence sounds good and helping people to live in their own homes is a goal we share.  but the risk is that independence can turn into isolation if the right support and care is not available.\",\n          \"beer giant swallows russian firm brewing giant inbev has agreed to buy alfa-eco s stake in sun interbrew  russia s second-largest brewer  for up to 259.7m euros ($353.3m; \\u00a3183.75m).  alfa-eco  the venture capital arm of russian conglomerate alfa group  has a one-fifth stake in sun interbrew. the deal gives inbev  the world s biggest beermaker  near-total control over the russian brewer. inbev bought out another partner in august 2004. inbev brands include bass  stella artois  hoegaarden and staropramen. it employs 77 000 people  running operations in over 30 countries across the americas  europe and asia pacific.  the leuven-based brewery said it would own 97.3% of the voting shares and 98.8% of the non-voting shares of sun interbrew. the deal is expected to be completed in the first quarter of 2005. inbev was formed in august 2004 when belgium s interbrew bought brazilian brewer ambev. sun interbrew  which employs 8 000 staff  owns breweries in eight russian cities - klin  ivanovo  saransk  kursk  volzhsky  omsk  perm and novocheboksarsk. there are also three breweries in ukraine  in the cities of chernigov  nikolaev and kharkov.\",\n          \"athens memories soar above lows well  it s goodbye to another olympic year and as usual there were plenty of highs and lows in athens.  obviously  there s no getting away from the differing fortunes of kelly holmes and paula radcliffe. but i want to remind you of a few more events that made 2004 another year to remember - or forget - for athletics.      one of my favourite olympic moments was kelly s success in the 800m.  winning that race was the key to her success because if she won that then the 1500m would be a bit of a formality. kelly had been full of  should i  shouldn t i   thoughts about going for the double in athens. i thought why wouldn t you do the 800m  it s your best event  it was such good fun to commentate on her 1500m and it was nice to be able to be part of her athens story.      the victory for the british men s 4x100m relay team was a bit of a surprise but a great climax to the games. i think the four of them - jason gardener  darren campbell  marlon devonish and mark lewis-francis - knew deep down that it was their best chance of a medal. the lads had run poorly in the individual sprints so maybe they did lift their game when they knew something was really at stake.      hicham el guerrouj s olympic double is a much bigger achievement than kelly s on a global scale.  he was the first man since for 80 years to win both the 1500m and 5 000m titles. as soon as he had added the 5 000m crown and i had finished commentating  i jumped up  ran down the stairs  pushed everyone out the way and just gave him a big hug. he is one of the few african runners who has embraced the tradition of the mile and he loves to hear all the roger bannister stories. hicham is someone i enjoy having a bit of time with  even though my french and his english are not very good.      what happened to paula in athens this year is the obvious low on a personal level and for the expectations of the nation as well. there were a set of circumstances around athens that conspired to produce a very dramatic ending which i think has been greatly misunderstood. dropping out of the marathon was the right thing to do but starting in the 10 000m five days later was not wise. that was her heart and not her head reacting. paula had a lot of little things going wrong in her preparation and on the day.  things like niggling injuries  not being able to do all her running sessions and feeling the pressure of the race looming ahead of her. i think she came to the start line in athens physically and emotionally drained. and if even the smallest thing doesn t feel right when you are preparing to race a marathon  10 miles down the road it will hit you like a brick wall. the positive thing to take from paula s olympics it that she will have learned a lot from it and so will a lot of people - including me.      purely as a race  paula s victory in the new york marathon has to go down as one of the most thrilling. it was so nip-and-tuck between her and kenya s susan chepkemei and you don t usually get that kind of excitement in marathons. it was also a real delight for all athletics fans because  to use one of my favourite words  paula showed real  bouncebackability . and it was a bit of a rarity for me too because i genuinely did not have an inkling how the race was going to pan out.      kelly and the 4x100m boys  victories papered over the cracks in the general performance of the british team. we should be concerned that we re not producing enough people who are capable of reaching finals at senior level.  the only individual men s finalist on the track was michael east in the 1500m. i am beginning to look down and wonder where are the new breed  and that s where things begin to look even gloomier for british athletics as we did not win any medals at the world junior championships in italy. dani barnes came fourth in the 1500m and she was the highest finisher for team gb. the thing is if we don t have athletes getting into the finals at junior level then it really doesn t look good for the beijing olympics and beyond.      i tell you what i really enjoyed this year  benita johnson winning the world cross country championships back in march. in the absence of paula  we tend to think of the event as something of an african preserve. so to have an australian come up and deliver such a surprise was something special.      to be honest  i m getting bored with all the drug scandals  especially balco. i just wish the whole thing would come to a head so we can move on.  having said that  i m always pleased when drugs cheats are caught because it shows the sport is standing up to it and not turning a blind eye anymore. and one of the positive things to come out of balco is people are starting to blow the whistle. we need more people to come forward and help the authorities kick out the cheats. as regards the case against greek sprinters kostas kenteris and katerina thanou  well suspicions have been hanging over kenteris for a while. the bottom line is we cannot keep letting drugs damage the sport because if we do then it stops everyone enjoying it.\"\n        ],\n        \"semantic_type\": \"\",\n        \"description\": \"\"\n      }\n    }\n  ]\n}"
            }
          },
          "metadata": {},
          "execution_count": 13
        }
      ]
    },
    {
      "cell_type": "code",
      "source": [
        "df.shape"
      ],
      "metadata": {
        "colab": {
          "base_uri": "https://localhost:8080/"
        },
        "id": "brY8yQv3_D_e",
        "outputId": "18bb15e9-bf69-48b9-cff9-87c47b622956"
      },
      "execution_count": null,
      "outputs": [
        {
          "output_type": "execute_result",
          "data": {
            "text/plain": [
              "(2225, 2)"
            ]
          },
          "metadata": {},
          "execution_count": 15
        }
      ]
    },
    {
      "cell_type": "code",
      "source": [
        "df.isnull().sum()"
      ],
      "metadata": {
        "colab": {
          "base_uri": "https://localhost:8080/",
          "height": 147
        },
        "id": "H84BAYo4_G4K",
        "outputId": "933cfbd7-aa47-4299-f7ae-afebde2c334d"
      },
      "execution_count": null,
      "outputs": [
        {
          "output_type": "execute_result",
          "data": {
            "text/plain": [
              "category    0\n",
              "text        0\n",
              "dtype: int64"
            ],
            "text/html": [
              "<div>\n",
              "<style scoped>\n",
              "    .dataframe tbody tr th:only-of-type {\n",
              "        vertical-align: middle;\n",
              "    }\n",
              "\n",
              "    .dataframe tbody tr th {\n",
              "        vertical-align: top;\n",
              "    }\n",
              "\n",
              "    .dataframe thead th {\n",
              "        text-align: right;\n",
              "    }\n",
              "</style>\n",
              "<table border=\"1\" class=\"dataframe\">\n",
              "  <thead>\n",
              "    <tr style=\"text-align: right;\">\n",
              "      <th></th>\n",
              "      <th>0</th>\n",
              "    </tr>\n",
              "  </thead>\n",
              "  <tbody>\n",
              "    <tr>\n",
              "      <th>category</th>\n",
              "      <td>0</td>\n",
              "    </tr>\n",
              "    <tr>\n",
              "      <th>text</th>\n",
              "      <td>0</td>\n",
              "    </tr>\n",
              "  </tbody>\n",
              "</table>\n",
              "</div><br><label><b>dtype:</b> int64</label>"
            ]
          },
          "metadata": {},
          "execution_count": 16
        }
      ]
    },
    {
      "cell_type": "code",
      "source": [
        "plt.figure(figsize=(8, 3))\n",
        "sns.countplot(df['category'])\n",
        "plt.show()"
      ],
      "metadata": {
        "colab": {
          "base_uri": "https://localhost:8080/",
          "height": 257
        },
        "id": "Qza09JCZ_MrN",
        "outputId": "b85ea51c-86ad-421e-da80-7653e90e67d3"
      },
      "execution_count": null,
      "outputs": [
        {
          "output_type": "display_data",
          "data": {
            "text/plain": [
              "<Figure size 800x300 with 1 Axes>"
            ],
            "image/png": "[encoded data removed]"
          },
          "metadata": {}
        }
      ]
    },
    {
      "cell_type": "code",
      "source": [
        "from string import whitespace\n",
        "def limpeza_texto(text):\n",
        "  # regex para limpar o texto\n",
        "\n",
        "  whitespace = re.compile(r'\\s+')\n",
        "  user = re.compile(r'(?i)@[a-z0-9_]+')\n",
        "  text = whitespace.sub(' ', text)\n",
        "  text = user.sub('', text)\n",
        "  text = re.sub(\"\\d+\", \"\", text)\n",
        "  text = re.sub(r'[^\\w\\s]','',text)\n",
        "  text = re.sub(r\"(?:@\\S*|#\\S*|http(?=.*://)\\S*)\", \"\", text)\n",
        "  text = text.lower()\n",
        "\n",
        "  text = [word for word in text.split() if word not in list(STOPWORDS)]\n",
        "\n",
        "  sentence = []\n",
        "\n",
        "  for word in text:\n",
        "    lemmatizer = WordNetLemmatizer()\n",
        "    sentence.append(lemmatizer.lemmatize(word, 'v'))\n",
        "\n",
        "\n",
        "  return ' '.join(sentence)"
      ],
      "metadata": {
        "id": "xYgw60zN_Vqq"
      },
      "execution_count": null,
      "outputs": []
    },
    {
      "cell_type": "code",
      "source": [
        "\n",
        "print(\"Texto antes da limpeza:\\n\",df['text'][0])\n",
        "print(\"---\"*100)\n",
        "print(\"Texto depois da limpeza:\\n\",limpeza_texto(df['text'][0]))"
      ],
      "metadata": {
        "colab": {
          "base_uri": "https://localhost:8080/"
        },
        "id": "jGlLPUbnBAi8",
        "outputId": "2bfaa92b-3e05-4228-dae7-26864d9ffeba"
      },
      "execution_count": null,
      "outputs": [
        {
          "output_type": "stream",
          "name": "stdout",
          "text": [
            "Texto antes da limpeza:\n",
            " tv future in the hands of viewers with home theatre systems  plasma high-definition tvs  and digital video recorders moving into the living room  the way people watch tv will be radically different in five years  time.  that is according to an expert panel which gathered at the annual consumer electronics show in las vegas to discuss how these new technologies will impact one of our favourite pastimes. with the us leading the trend  programmes and other content will be delivered to viewers via home networks  through cable  satellite  telecoms companies  and broadband service providers to front rooms and portable devices.  one of the most talked-about technologies of ces has been digital and personal video recorders (dvr and pvr). these set-top boxes  like the us s tivo and the uk s sky+ system  allow people to record  store  play  pause and forward wind tv programmes when they want.  essentially  the technology allows for much more personalised tv. they are also being built-in to high-definition tv sets  which are big business in japan and the us  but slower to take off in europe because of the lack of high-definition programming. not only can people forward wind through adverts  they can also forget about abiding by network and channel schedules  putting together their own a-la-carte entertainment. but some us networks and cable and satellite companies are worried about what it means for them in terms of advertising revenues as well as  brand identity  and viewer loyalty to channels. although the us leads in this technology at the moment  it is also a concern that is being raised in europe  particularly with the growing uptake of services like sky+.  what happens here today  we will see in nine months to a years  time in the uk   adam hume  the bbc broadcast s futurologist told the bbc news website. for the likes of the bbc  there are no issues of lost advertising revenue yet. it is a more pressing issue at the moment for commercial uk broadcasters  but brand loyalty is important for everyone.  we will be talking more about content brands rather than network brands   said tim hanlon  from brand communications firm starcom mediavest.  the reality is that with broadband connections  anybody can be the producer of content.  he added:  the challenge now is that it is hard to promote a programme with so much choice.   what this means  said stacey jolna  senior vice president of tv guide tv group  is that the way people find the content they want to watch has to be simplified for tv viewers. it means that networks  in us terms  or channels could take a leaf out of google s book and be the search engine of the future  instead of the scheduler to help people find what they want to watch. this kind of channel model might work for the younger ipod generation which is used to taking control of their gadgets and what they play on them. but it might not suit everyone  the panel recognised. older generations are more comfortable with familiar schedules and channel brands because they know what they are getting. they perhaps do not want so much of the choice put into their hands  mr hanlon suggested.  on the other end  you have the kids just out of diapers who are pushing buttons already - everything is possible and available to them   said mr hanlon.  ultimately  the consumer will tell the market they want.   of the 50 000 new gadgets and technologies being showcased at ces  many of them are about enhancing the tv-watching experience. high-definition tv sets are everywhere and many new models of lcd (liquid crystal display) tvs have been launched with dvr capability built into them  instead of being external boxes. one such example launched at the show is humax s 26-inch lcd tv with an 80-hour tivo dvr and dvd recorder. one of the us s biggest satellite tv companies  directtv  has even launched its own branded dvr at the show with 100-hours of recording capability  instant replay  and a search function. the set can pause and rewind tv for up to 90 hours. and microsoft chief bill gates announced in his pre-show keynote speech a partnership with tivo  called tivotogo  which means people can play recorded programmes on windows pcs and mobile devices. all these reflect the increasing trend of freeing up multimedia so that people can watch what they want  when they want.\n",
            "------------------------------------------------------------------------------------------------------------------------------------------------------------------------------------------------------------------------------------------------------------------------------------------------------------\n",
            "Texto depois da limpeza:\n",
            " tv future hand viewers home theatre systems plasma highdefinition tvs digital video recorders move live room way people watch tv will radically different five years time accord expert panel gather annual consumer electronics show las vegas discuss new technologies will impact one favourite pastimes us lead trend program content will deliver viewers via home network cable satellite telecoms company broadband service providers front room portable devices one talkedabout technologies ces digital personal video recorders dvr pvr settop box us s tivo uk s sky system allow people record store play pause forward wind tv program want essentially technology allow much personalise tv builtin highdefinition tv set big business japan us slower take europe lack highdefinition program people forward wind advert forget abide network channel schedule put together alacarte entertainment us network cable satellite company worry mean term advertise revenues well brand identity viewer loyalty channel although us lead technology moment concern raise europe particularly grow uptake service sky happen today will see nine months years time uk adam hume bbc broadcast s futurologist tell bbc news website like bbc issue lose advertise revenue yet press issue moment commercial uk broadcasters brand loyalty important everyone will talk content brand rather network brand say tim hanlon brand communications firm starcom mediavest reality broadband connections anybody producer content add challenge now hard promote programme much choice mean say stacey jolna senior vice president tv guide tv group way people find content want watch simplify tv viewers mean network us term channel take leaf google s book search engine future instead scheduler help people find want watch kind channel model might work younger ipod generation use take control gadgets play might suit everyone panel recognise older generations comfortable familiar schedule channel brand know get perhaps want much choice put hand mr hanlon suggest end kid diapers push button already everything possible available say mr hanlon ultimately consumer will tell market want new gadgets technologies showcased ces many enhance tvwatching experience highdefinition tv set everywhere many new model lcd liquid crystal display tvs launch dvr capability build instead external box one example launch show humax s inch lcd tv hour tivo dvr dvd recorder one us s biggest satellite tv company directtv even launch brand dvr show hours record capability instant replay search function set pause rewind tv hours microsoft chief bill gate announce preshow keynote speech partnership tivo call tivotogo mean people play record program windows pcs mobile devices reflect increase trend free multimedia people watch want want\n"
          ]
        }
      ]
    },
    {
      "cell_type": "code",
      "source": [
        "df['text'] = df['text'].apply(limpeza_texto)"
      ],
      "metadata": {
        "id": "NLyS6X3GBA-S"
      },
      "execution_count": null,
      "outputs": []
    },
    {
      "cell_type": "code",
      "source": [
        "samples = list(df['text'][:5].values)\n",
        "\n",
        "token_index = {}\n",
        "\n",
        "for sample in samples:\n",
        "  for word in sample.split():\n",
        "    if word not in token_index:\n",
        "      token_index[word] = len(token_index) + 1\n",
        "\n",
        "max_length = 15\n",
        "\n",
        "results = np.zeros(shape=(len(samples), max_length, max(token_index.values()) + 1))"
      ],
      "metadata": {
        "id": "nENs45-dBLYx"
      },
      "execution_count": null,
      "outputs": []
    },
    {
      "cell_type": "code",
      "source": [
        "results.shape"
      ],
      "metadata": {
        "colab": {
          "base_uri": "https://localhost:8080/"
        },
        "id": "jY-JhXYjCK3V",
        "outputId": "feb365c6-814a-4499-916e-74aa85cb855c"
      },
      "execution_count": null,
      "outputs": [
        {
          "output_type": "execute_result",
          "data": {
            "text/plain": [
              "(5, 15, 680)"
            ]
          },
          "metadata": {},
          "execution_count": 46
        }
      ]
    },
    {
      "cell_type": "code",
      "source": [
        "for i, sample in enumerate(samples):\n",
        "  for j, word in list(enumerate(sample.split()))[:max_length]:\n",
        "    index = token_index.get(word)\n",
        "    results[i, j, index] = 1"
      ],
      "metadata": {
        "id": "1nhBGsjbCNv0"
      },
      "execution_count": null,
      "outputs": []
    },
    {
      "cell_type": "code",
      "source": [
        "results.shape"
      ],
      "metadata": {
        "colab": {
          "base_uri": "https://localhost:8080/"
        },
        "id": "agr-4aYtCfiF",
        "outputId": "169bc5ff-e59f-4de5-e9a5-471d1884455b"
      },
      "execution_count": null,
      "outputs": [
        {
          "output_type": "execute_result",
          "data": {
            "text/plain": [
              "(5, 15, 680)"
            ]
          },
          "metadata": {},
          "execution_count": 48
        }
      ]
    },
    {
      "cell_type": "code",
      "source": [
        "token_index"
      ],
      "metadata": {
        "colab": {
          "base_uri": "https://localhost:8080/"
        },
        "collapsed": true,
        "id": "uEWRLOibChP1",
        "outputId": "e68e9d26-0695-489d-d6cf-65b70bc66039"
      },
      "execution_count": null,
      "outputs": [
        {
          "output_type": "execute_result",
          "data": {
            "text/plain": [
              "{'tv': 1,\n",
              " 'future': 2,\n",
              " 'hand': 3,\n",
              " 'viewers': 4,\n",
              " 'home': 5,\n",
              " 'theatre': 6,\n",
              " 'systems': 7,\n",
              " 'plasma': 8,\n",
              " 'highdefinition': 9,\n",
              " 'tvs': 10,\n",
              " 'digital': 11,\n",
              " 'video': 12,\n",
              " 'recorders': 13,\n",
              " 'move': 14,\n",
              " 'live': 15,\n",
              " 'room': 16,\n",
              " 'way': 17,\n",
              " 'people': 18,\n",
              " 'watch': 19,\n",
              " 'will': 20,\n",
              " 'radically': 21,\n",
              " 'different': 22,\n",
              " 'five': 23,\n",
              " 'years': 24,\n",
              " 'time': 25,\n",
              " 'accord': 26,\n",
              " 'expert': 27,\n",
              " 'panel': 28,\n",
              " 'gather': 29,\n",
              " 'annual': 30,\n",
              " 'consumer': 31,\n",
              " 'electronics': 32,\n",
              " 'show': 33,\n",
              " 'las': 34,\n",
              " 'vegas': 35,\n",
              " 'discuss': 36,\n",
              " 'new': 37,\n",
              " 'technologies': 38,\n",
              " 'impact': 39,\n",
              " 'one': 40,\n",
              " 'favourite': 41,\n",
              " 'pastimes': 42,\n",
              " 'us': 43,\n",
              " 'lead': 44,\n",
              " 'trend': 45,\n",
              " 'program': 46,\n",
              " 'content': 47,\n",
              " 'deliver': 48,\n",
              " 'via': 49,\n",
              " 'network': 50,\n",
              " 'cable': 51,\n",
              " 'satellite': 52,\n",
              " 'telecoms': 53,\n",
              " 'company': 54,\n",
              " 'broadband': 55,\n",
              " 'service': 56,\n",
              " 'providers': 57,\n",
              " 'front': 58,\n",
              " 'portable': 59,\n",
              " 'devices': 60,\n",
              " 'talkedabout': 61,\n",
              " 'ces': 62,\n",
              " 'personal': 63,\n",
              " 'dvr': 64,\n",
              " 'pvr': 65,\n",
              " 'settop': 66,\n",
              " 'box': 67,\n",
              " 's': 68,\n",
              " 'tivo': 69,\n",
              " 'uk': 70,\n",
              " 'sky': 71,\n",
              " 'system': 72,\n",
              " 'allow': 73,\n",
              " 'record': 74,\n",
              " 'store': 75,\n",
              " 'play': 76,\n",
              " 'pause': 77,\n",
              " 'forward': 78,\n",
              " 'wind': 79,\n",
              " 'want': 80,\n",
              " 'essentially': 81,\n",
              " 'technology': 82,\n",
              " 'much': 83,\n",
              " 'personalise': 84,\n",
              " 'builtin': 85,\n",
              " 'set': 86,\n",
              " 'big': 87,\n",
              " 'business': 88,\n",
              " 'japan': 89,\n",
              " 'slower': 90,\n",
              " 'take': 91,\n",
              " 'europe': 92,\n",
              " 'lack': 93,\n",
              " 'advert': 94,\n",
              " 'forget': 95,\n",
              " 'abide': 96,\n",
              " 'channel': 97,\n",
              " 'schedule': 98,\n",
              " 'put': 99,\n",
              " 'together': 100,\n",
              " 'alacarte': 101,\n",
              " 'entertainment': 102,\n",
              " 'worry': 103,\n",
              " 'mean': 104,\n",
              " 'term': 105,\n",
              " 'advertise': 106,\n",
              " 'revenues': 107,\n",
              " 'well': 108,\n",
              " 'brand': 109,\n",
              " 'identity': 110,\n",
              " 'viewer': 111,\n",
              " 'loyalty': 112,\n",
              " 'although': 113,\n",
              " 'moment': 114,\n",
              " 'concern': 115,\n",
              " 'raise': 116,\n",
              " 'particularly': 117,\n",
              " 'grow': 118,\n",
              " 'uptake': 119,\n",
              " 'happen': 120,\n",
              " 'today': 121,\n",
              " 'see': 122,\n",
              " 'nine': 123,\n",
              " 'months': 124,\n",
              " 'adam': 125,\n",
              " 'hume': 126,\n",
              " 'bbc': 127,\n",
              " 'broadcast': 128,\n",
              " 'futurologist': 129,\n",
              " 'tell': 130,\n",
              " 'news': 131,\n",
              " 'website': 132,\n",
              " 'like': 133,\n",
              " 'issue': 134,\n",
              " 'lose': 135,\n",
              " 'revenue': 136,\n",
              " 'yet': 137,\n",
              " 'press': 138,\n",
              " 'commercial': 139,\n",
              " 'broadcasters': 140,\n",
              " 'important': 141,\n",
              " 'everyone': 142,\n",
              " 'talk': 143,\n",
              " 'rather': 144,\n",
              " 'say': 145,\n",
              " 'tim': 146,\n",
              " 'hanlon': 147,\n",
              " 'communications': 148,\n",
              " 'firm': 149,\n",
              " 'starcom': 150,\n",
              " 'mediavest': 151,\n",
              " 'reality': 152,\n",
              " 'connections': 153,\n",
              " 'anybody': 154,\n",
              " 'producer': 155,\n",
              " 'add': 156,\n",
              " 'challenge': 157,\n",
              " 'now': 158,\n",
              " 'hard': 159,\n",
              " 'promote': 160,\n",
              " 'programme': 161,\n",
              " 'choice': 162,\n",
              " 'stacey': 163,\n",
              " 'jolna': 164,\n",
              " 'senior': 165,\n",
              " 'vice': 166,\n",
              " 'president': 167,\n",
              " 'guide': 168,\n",
              " 'group': 169,\n",
              " 'find': 170,\n",
              " 'simplify': 171,\n",
              " 'leaf': 172,\n",
              " 'google': 173,\n",
              " 'book': 174,\n",
              " 'search': 175,\n",
              " 'engine': 176,\n",
              " 'instead': 177,\n",
              " 'scheduler': 178,\n",
              " 'help': 179,\n",
              " 'kind': 180,\n",
              " 'model': 181,\n",
              " 'might': 182,\n",
              " 'work': 183,\n",
              " 'younger': 184,\n",
              " 'ipod': 185,\n",
              " 'generation': 186,\n",
              " 'use': 187,\n",
              " 'control': 188,\n",
              " 'gadgets': 189,\n",
              " 'suit': 190,\n",
              " 'recognise': 191,\n",
              " 'older': 192,\n",
              " 'generations': 193,\n",
              " 'comfortable': 194,\n",
              " 'familiar': 195,\n",
              " 'know': 196,\n",
              " 'get': 197,\n",
              " 'perhaps': 198,\n",
              " 'mr': 199,\n",
              " 'suggest': 200,\n",
              " 'end': 201,\n",
              " 'kid': 202,\n",
              " 'diapers': 203,\n",
              " 'push': 204,\n",
              " 'button': 205,\n",
              " 'already': 206,\n",
              " 'everything': 207,\n",
              " 'possible': 208,\n",
              " 'available': 209,\n",
              " 'ultimately': 210,\n",
              " 'market': 211,\n",
              " 'showcased': 212,\n",
              " 'many': 213,\n",
              " 'enhance': 214,\n",
              " 'tvwatching': 215,\n",
              " 'experience': 216,\n",
              " 'everywhere': 217,\n",
              " 'lcd': 218,\n",
              " 'liquid': 219,\n",
              " 'crystal': 220,\n",
              " 'display': 221,\n",
              " 'launch': 222,\n",
              " 'capability': 223,\n",
              " 'build': 224,\n",
              " 'external': 225,\n",
              " 'example': 226,\n",
              " 'humax': 227,\n",
              " 'inch': 228,\n",
              " 'hour': 229,\n",
              " 'dvd': 230,\n",
              " 'recorder': 231,\n",
              " 'biggest': 232,\n",
              " 'directtv': 233,\n",
              " 'even': 234,\n",
              " 'hours': 235,\n",
              " 'instant': 236,\n",
              " 'replay': 237,\n",
              " 'function': 238,\n",
              " 'rewind': 239,\n",
              " 'microsoft': 240,\n",
              " 'chief': 241,\n",
              " 'bill': 242,\n",
              " 'gate': 243,\n",
              " 'announce': 244,\n",
              " 'preshow': 245,\n",
              " 'keynote': 246,\n",
              " 'speech': 247,\n",
              " 'partnership': 248,\n",
              " 'call': 249,\n",
              " 'tivotogo': 250,\n",
              " 'windows': 251,\n",
              " 'pcs': 252,\n",
              " 'mobile': 253,\n",
              " 'reflect': 254,\n",
              " 'increase': 255,\n",
              " 'free': 256,\n",
              " 'multimedia': 257,\n",
              " 'worldcom': 258,\n",
              " 'boss': 259,\n",
              " 'leave': 260,\n",
              " 'alone': 261,\n",
              " 'former': 262,\n",
              " 'bernie': 263,\n",
              " 'ebbers': 264,\n",
              " 'accuse': 265,\n",
              " 'oversee': 266,\n",
              " 'bn': 267,\n",
              " 'fraud': 268,\n",
              " 'never': 269,\n",
              " 'make': 270,\n",
              " 'account': 271,\n",
              " 'decisions': 272,\n",
              " 'witness': 273,\n",
              " 'jurors': 274,\n",
              " 'david': 275,\n",
              " 'myers': 276,\n",
              " 'comment': 277,\n",
              " 'question': 278,\n",
              " 'defence': 279,\n",
              " 'lawyers': 280,\n",
              " 'argue': 281,\n",
              " 'responsible': 282,\n",
              " 'problems': 283,\n",
              " 'phone': 284,\n",
              " 'collapse': 285,\n",
              " 'prosecutors': 286,\n",
              " 'claim': 287,\n",
              " 'losses': 288,\n",
              " 'hide': 289,\n",
              " 'protect': 290,\n",
              " 'share': 291,\n",
              " 'plead': 292,\n",
              " 'guilty': 293,\n",
              " 'assist': 294,\n",
              " 'monday': 295,\n",
              " 'lawyer': 296,\n",
              " 'reid': 297,\n",
              " 'weingarten': 298,\n",
              " 'try': 299,\n",
              " 'distance': 300,\n",
              " 'client': 301,\n",
              " 'allegations': 302,\n",
              " 'cross': 303,\n",
              " 'examination': 304,\n",
              " 'ask': 305,\n",
              " 'decision': 306,\n",
              " 'aware': 307,\n",
              " 'reply': 308,\n",
              " 'entry': 309,\n",
              " 'admit': 310,\n",
              " 'order': 311,\n",
              " 'false': 312,\n",
              " 'entries': 313,\n",
              " 'request': 314,\n",
              " 'financial': 315,\n",
              " 'officer': 316,\n",
              " 'scott': 317,\n",
              " 'sullivan': 318,\n",
              " 'paint': 319,\n",
              " 'testify': 320,\n",
              " 'later': 321,\n",
              " 'trial': 322,\n",
              " 'mastermind': 323,\n",
              " 'behind': 324,\n",
              " 'house': 325,\n",
              " 'card': 326,\n",
              " 'team': 327,\n",
              " 'meanwhile': 328,\n",
              " 'look': 329,\n",
              " 'portray': 330,\n",
              " 'affable': 331,\n",
              " 'admission': 332,\n",
              " 'pe': 333,\n",
              " 'graduate': 334,\n",
              " 'economist': 335,\n",
              " 'whatever': 336,\n",
              " 'abilities': 337,\n",
              " 'transform': 338,\n",
              " 'relative': 339,\n",
              " 'unknown': 340,\n",
              " 'giant': 341,\n",
              " 'investor': 342,\n",
              " 'darling': 343,\n",
              " 'late': 344,\n",
              " 'mount': 345,\n",
              " 'competition': 346,\n",
              " 'boom': 347,\n",
              " 'petered': 348,\n",
              " 'finally': 349,\n",
              " 'shareholders': 350,\n",
              " 'workers': 351,\n",
              " 'job': 352,\n",
              " 'expect': 353,\n",
              " 'last': 354,\n",
              " 'two': 355,\n",
              " 'ceo': 356,\n",
              " 'face': 357,\n",
              " 'substantial': 358,\n",
              " 'jail': 359,\n",
              " 'sentence': 360,\n",
              " 'firmly': 361,\n",
              " 'declare': 362,\n",
              " 'innocence': 363,\n",
              " 'tigers': 364,\n",
              " 'wary': 365,\n",
              " 'farrell': 366,\n",
              " 'gamble': 367,\n",
              " 'leicester': 368,\n",
              " 'rush': 369,\n",
              " 'bid': 370,\n",
              " 'andy': 371,\n",
              " 'great': 372,\n",
              " 'britain': 373,\n",
              " 'rugby': 374,\n",
              " 'league': 375,\n",
              " 'captain': 376,\n",
              " 'decide': 377,\n",
              " 'switch': 378,\n",
              " 'cod': 379,\n",
              " 'involve': 380,\n",
              " 'process': 381,\n",
              " 'still': 382,\n",
              " 'away': 383,\n",
              " 'go': 384,\n",
              " 'next': 385,\n",
              " 'stage': 386,\n",
              " 'john': 387,\n",
              " 'radio': 388,\n",
              " 'lot': 389,\n",
              " 'unknowns': 390,\n",
              " 'least': 391,\n",
              " 'medical': 392,\n",
              " 'situation': 393,\n",
              " 'whoever': 394,\n",
              " 'persistent': 395,\n",
              " 'knee': 396,\n",
              " 'operation': 397,\n",
              " 'weeks': 398,\n",
              " 'ago': 399,\n",
              " 'another': 400,\n",
              " 'three': 401,\n",
              " 'saracens': 402,\n",
              " 'believe': 403,\n",
              " 'head': 404,\n",
              " 'list': 405,\n",
              " 'union': 406,\n",
              " 'club': 407,\n",
              " 'interest': 408,\n",
              " 'sign': 409,\n",
              " 'man': 410,\n",
              " 'game': 411,\n",
              " 'across': 412,\n",
              " 'better': 413,\n",
              " 'back': 414,\n",
              " 'initially': 415,\n",
              " 'm': 416,\n",
              " 'sure': 417,\n",
              " 'step': 418,\n",
              " 'centre': 419,\n",
              " 'think': 420,\n",
              " 'england': 421,\n",
              " 'prefer': 422,\n",
              " 'progress': 423,\n",
              " 'position': 424,\n",
              " 'row': 425,\n",
              " 'skills': 426,\n",
              " 'within': 427,\n",
              " 'jury': 428,\n",
              " 'whether': 429,\n",
              " 'divide': 430,\n",
              " 'balance': 431,\n",
              " 'strike': 432,\n",
              " 'cost': 433,\n",
              " 'option': 434,\n",
              " 'bring': 435,\n",
              " 'readymade': 436,\n",
              " 'replacement': 437,\n",
              " 'yeading': 438,\n",
              " 'newcastle': 439,\n",
              " 'fa': 440,\n",
              " 'cup': 441,\n",
              " 'premiership': 442,\n",
              " 'side': 443,\n",
              " 'unite': 444,\n",
              " 'trip': 445,\n",
              " 'ryman': 446,\n",
              " 'premier': 447,\n",
              " 'leaders': 448,\n",
              " 'third': 449,\n",
              " 'round': 450,\n",
              " 'arguably': 451,\n",
              " 'highlight': 452,\n",
              " 'draw': 453,\n",
              " 'potential': 454,\n",
              " 'moneyspinner': 455,\n",
              " 'nonleague': 456,\n",
              " 'beat': 457,\n",
              " 'slough': 458,\n",
              " 'second': 459,\n",
              " 'conference': 460,\n",
              " 'exeter': 461,\n",
              " 'city': 462,\n",
              " 'knock': 463,\n",
              " 'doncaster': 464,\n",
              " 'saturday': 465,\n",
              " 'travel': 466,\n",
              " 'old': 467,\n",
              " 'trafford': 468,\n",
              " 'meet': 469,\n",
              " 'holders': 470,\n",
              " 'manchester': 471,\n",
              " 'january': 472,\n",
              " 'arsenal': 473,\n",
              " 'stoke': 474,\n",
              " 'chelsea': 475,\n",
              " 'host': 476,\n",
              " 'scunthorpe': 477,\n",
              " 'hinckley': 478,\n",
              " 'hold': 479,\n",
              " 'brentford': 480,\n",
              " 'goalless': 481,\n",
              " 'sunday': 482,\n",
              " 'luton': 483,\n",
              " 'win': 484,\n",
              " 'martin': 485,\n",
              " 'allen': 486,\n",
              " 'griffin': 487,\n",
              " 'park': 488,\n",
              " 'number': 489,\n",
              " 'difficult': 490,\n",
              " 'championship': 491,\n",
              " 'weekend': 492,\n",
              " 'thirdplaced': 493,\n",
              " 'everton': 494,\n",
              " 'visit': 495,\n",
              " 'plymouth': 496,\n",
              " 'liverpool': 497,\n",
              " 'burnley': 498,\n",
              " 'palace': 499,\n",
              " 'sunderland': 500,\n",
              " 'fulham': 501,\n",
              " 'carling': 502,\n",
              " 'semifinalists': 503,\n",
              " 'watford': 504,\n",
              " 'bolton': 505,\n",
              " 'ipswich': 506,\n",
              " 'aston': 507,\n",
              " 'villa': 508,\n",
              " 'sheffield': 509,\n",
              " 'strugglers': 510,\n",
              " 'norwich': 511,\n",
              " 'blackburn': 512,\n",
              " 'west': 513,\n",
              " 'brom': 514,\n",
              " 'ham': 515,\n",
              " 'cardiff': 516,\n",
              " 'preston': 517,\n",
              " 'north': 518,\n",
              " 'respectively': 519,\n",
              " 'southampton': 520,\n",
              " 'northampton': 521,\n",
              " 'earlier': 522,\n",
              " 'season': 523,\n",
              " 'middlesbrough': 524,\n",
              " 'either': 525,\n",
              " 'swindon': 526,\n",
              " 'notts': 527,\n",
              " 'county': 528,\n",
              " 'spur': 529,\n",
              " 'entertain': 530,\n",
              " 'brighton': 531,\n",
              " 'white': 532,\n",
              " 'hart': 533,\n",
              " 'lane': 534,\n",
              " 'v': 535,\n",
              " 'swindonnotts': 536,\n",
              " 'co': 537,\n",
              " 'utd': 538,\n",
              " 'blackpool': 539,\n",
              " 'derby': 540,\n",
              " 'wigan': 541,\n",
              " 'wolves': 542,\n",
              " 'millwall': 543,\n",
              " 'hull': 544,\n",
              " 'colchester': 545,\n",
              " 'tottenham': 546,\n",
              " 'read': 547,\n",
              " 'stockportswansea': 548,\n",
              " 'birmingham': 549,\n",
              " 'leeds': 550,\n",
              " 'hartlepool': 551,\n",
              " 'boston': 552,\n",
              " 'milton': 553,\n",
              " 'keynes': 554,\n",
              " 'don': 555,\n",
              " 'peterborough': 556,\n",
              " 'oldham': 557,\n",
              " 'charlton': 558,\n",
              " 'rochdale': 559,\n",
              " 'sheff': 560,\n",
              " 'rotherham': 561,\n",
              " 'yeovil': 562,\n",
              " 'bournemouth': 563,\n",
              " 'chester': 564,\n",
              " 'coventry': 565,\n",
              " 'crewe': 566,\n",
              " 'portsmouth': 567,\n",
              " 'gillingham': 568,\n",
              " 'qpr': 569,\n",
              " 'nottm': 570,\n",
              " 'forest': 571,\n",
              " 'hinckleybrentford': 572,\n",
              " 'match': 573,\n",
              " 'ocean': 574,\n",
              " 'twelve': 575,\n",
              " 'raid': 576,\n",
              " 'office': 577,\n",
              " 'crime': 578,\n",
              " 'caper': 579,\n",
              " 'sequel': 580,\n",
              " 'star': 581,\n",
              " 'george': 582,\n",
              " 'clooney': 583,\n",
              " 'brad': 584,\n",
              " 'pitt': 585,\n",
              " 'julia': 586,\n",
              " 'roberts': 587,\n",
              " 'straight': 588,\n",
              " 'chart': 589,\n",
              " 'ticket': 590,\n",
              " 'sales': 591,\n",
              " 'studio': 592,\n",
              " 'estimate': 593,\n",
              " 'follow': 594,\n",
              " 'master': 595,\n",
              " 'criminals': 596,\n",
              " 'pull': 597,\n",
              " 'major': 598,\n",
              " 'heist': 599,\n",
              " 'week': 600,\n",
              " 'national': 601,\n",
              " 'treasure': 602,\n",
              " 'place': 603,\n",
              " 'wesley': 604,\n",
              " 'snip': 605,\n",
              " 'blade': 606,\n",
              " 'trinity': 607,\n",
              " 'top': 608,\n",
              " 'animate': 609,\n",
              " 'fable': 610,\n",
              " 'polar': 611,\n",
              " 'express': 612,\n",
              " 'tom': 613,\n",
              " 'hanks': 614,\n",
              " 'festive': 615,\n",
              " 'comedy': 616,\n",
              " 'christmas': 617,\n",
              " 'kranks': 618,\n",
              " 'triumph': 619,\n",
              " 'mark': 620,\n",
              " 'fourthbiggest': 621,\n",
              " 'open': 622,\n",
              " 'december': 623,\n",
              " 'release': 624,\n",
              " 'film': 625,\n",
              " 'lord': 626,\n",
              " 'ring': 627,\n",
              " 'trilogy': 628,\n",
              " 'narrowly': 629,\n",
              " 'predecessor': 630,\n",
              " 'eleven': 631,\n",
              " 'total': 632,\n",
              " 'remake': 633,\n",
              " 'frank': 634,\n",
              " 'sinatra': 635,\n",
              " 'rat': 636,\n",
              " 'pack': 637,\n",
              " 'direct': 638,\n",
              " 'oscarwinning': 639,\n",
              " 'director': 640,\n",
              " 'steven': 641,\n",
              " 'soderbergh': 642,\n",
              " 'return': 643,\n",
              " 'hit': 644,\n",
              " 'reunite': 645,\n",
              " 'matt': 646,\n",
              " 'damon': 647,\n",
              " 'garcia': 648,\n",
              " 'elliott': 649,\n",
              " 'gould': 650,\n",
              " 'catherine': 651,\n",
              " 'zetajones': 652,\n",
              " 'join': 653,\n",
              " 'allstar': 654,\n",
              " 'cast': 655,\n",
              " 'fun': 656,\n",
              " 'good': 657,\n",
              " 'holiday': 658,\n",
              " 'movie': 659,\n",
              " 'dan': 660,\n",
              " 'fellman': 661,\n",
              " 'distribution': 662,\n",
              " 'warner': 663,\n",
              " 'bros': 664,\n",
              " 'critics': 665,\n",
              " 'less': 666,\n",
              " 'complimentary': 667,\n",
              " 'project': 668,\n",
              " 'los': 669,\n",
              " 'angeles': 670,\n",
              " 'label': 671,\n",
              " 'dispirit': 672,\n",
              " 'vanity': 673,\n",
              " 'milder': 674,\n",
              " 'review': 675,\n",
              " 'york': 676,\n",
              " 'dub': 677,\n",
              " 'unabashedly': 678,\n",
              " 'trivial': 679}"
            ]
          },
          "metadata": {},
          "execution_count": 49
        }
      ]
    },
    {
      "cell_type": "code",
      "source": [
        "X = df['text']\n",
        "encoder = LabelEncoder()\n",
        "y = encoder.fit_transform(df['category'])\n",
        "\n",
        "print(X.shape)\n",
        "print(y.shape)"
      ],
      "metadata": {
        "colab": {
          "base_uri": "https://localhost:8080/"
        },
        "id": "IFWe6bltCl2i",
        "outputId": "40804cc2-3442-4ff6-9be6-5335e4ac9bbe"
      },
      "execution_count": null,
      "outputs": [
        {
          "output_type": "stream",
          "name": "stdout",
          "text": [
            "(2225,)\n",
            "(2225,)\n"
          ]
        }
      ]
    },
    {
      "cell_type": "code",
      "source": [
        "X_train, X_test, y_train, y_test = train_test_split(X, y, test_size=0.2)"
      ],
      "metadata": {
        "id": "BynCuRblDcno"
      },
      "execution_count": null,
      "outputs": []
    },
    {
      "cell_type": "code",
      "source": [
        "tokenizer = Tokenizer(num_words=1000)\n",
        "tokenizer.fit_on_texts(X_train)\n",
        "\n",
        "train_seq = tokenizer.texts_to_sequences(X_train)\n",
        "train_padseq = pad_sequences(train_seq, maxlen=200)\n",
        "\n",
        "test_seq = tokenizer.texts_to_sequences(X_test)\n",
        "test_padseq = pad_sequences(test_seq, maxlen=100)\n",
        "\n",
        "test_seq = tokenizer.texts_to_sequences(X_test)\n",
        "test_padseq = pad_sequences(test_seq, maxlen=200)"
      ],
      "metadata": {
        "id": "1Ocv_cfADlTt"
      },
      "execution_count": null,
      "outputs": []
    },
    {
      "cell_type": "code",
      "source": [
        "word_index = tokenizer.word_index\n",
        "print('Found %s unique tokens.' % len(word_index))"
      ],
      "metadata": {
        "colab": {
          "base_uri": "https://localhost:8080/"
        },
        "id": "mDjGESYxEJ0e",
        "outputId": "bbbcb0ba-118d-4f27-8aec-a75e821ee610"
      },
      "execution_count": null,
      "outputs": [
        {
          "output_type": "stream",
          "name": "stdout",
          "text": [
            "Found 22639 unique tokens.\n"
          ]
        }
      ]
    },
    {
      "cell_type": "code",
      "source": [
        "max_words = 1500\n",
        "total_words = len(word_index)\n",
        "maxlen = 200\n",
        "\n",
        "y_train = to_categorical(y_train, num_classes=5)\n",
        "y_test = to_categorical(y_test, num_classes=5)"
      ],
      "metadata": {
        "id": "ib8YGR7BEMeW"
      },
      "execution_count": null,
      "outputs": []
    },
    {
      "cell_type": "code",
      "source": [
        "total_words"
      ],
      "metadata": {
        "colab": {
          "base_uri": "https://localhost:8080/"
        },
        "id": "6BzwjcKYEbCt",
        "outputId": "bda6b907-d382-48ea-97be-097093b95cd1"
      },
      "execution_count": null,
      "outputs": [
        {
          "output_type": "execute_result",
          "data": {
            "text/plain": [
              "22639"
            ]
          },
          "metadata": {},
          "execution_count": 55
        }
      ]
    },
    {
      "cell_type": "code",
      "source": [
        "model = Sequential()\n",
        "model.add(Embedding(total_words, 70, input_length=maxlen)) # camada de embeddings, utilizando o total de palavras do corpus, com 70 neuronios de dimensão e entrada do tamanho da rede é de maxlen (200)\n",
        "model.add(Bidirectional(SimpleRNN(64, dropout=0.1, recurrent_dropout=0.20, activation='tanh', return_sequences=True))) # cada unidade de tempo da RNN tem acesso a informações de contexto tanto passadas quanto futuras\n",
        "model.add(Bidirectional(SimpleRNN(64, dropout=0.1, recurrent_dropout=0.30, activation='tanh', return_sequences=True))) # return_sequences=True indica que essa camada retorna sequências em vez de um único vetor\n",
        "model.add(SimpleRNN(32, activation='tanh'))\n",
        "model.add(Dropout(0.2))\n",
        "model.add(Dense(5, activation='softmax'))\n",
        "model.summary()\n"
      ],
      "metadata": {
        "colab": {
          "base_uri": "https://localhost:8080/",
          "height": 355
        },
        "id": "7eNUnY1nEcEG",
        "outputId": "005d11f3-3c36-4249-d6f6-0a705dcba1e5"
      },
      "execution_count": null,
      "outputs": [
        {
          "output_type": "display_data",
          "data": {
            "text/plain": [
              "\u001b[1mModel: \"sequential\"\u001b[0m\n"
            ],
            "text/html": [
              "<pre style=\"white-space:pre;overflow-x:auto;line-height:normal;font-family:Menlo,'DejaVu Sans Mono',consolas,'Courier New',monospace\"><span style=\"font-weight: bold\">Model: \"sequential\"</span>\n",
              "</pre>\n"
            ]
          },
          "metadata": {}
        },
        {
          "output_type": "display_data",
          "data": {
            "text/plain": [
              "┏━━━━━━━━━━━━━━━━━━━━━━━━━━━━━━━━━━━━━━┳━━━━━━━━━━━━━━━━━━━━━━━━━━━━━┳━━━━━━━━━━━━━━━━━┓\n",
              "┃\u001b[1m \u001b[0m\u001b[1mLayer (type)                        \u001b[0m\u001b[1m \u001b[0m┃\u001b[1m \u001b[0m\u001b[1mOutput Shape               \u001b[0m\u001b[1m \u001b[0m┃\u001b[1m \u001b[0m\u001b[1m        Param #\u001b[0m\u001b[1m \u001b[0m┃\n",
              "┡━━━━━━━━━━━━━━━━━━━━━━━━━━━━━━━━━━━━━━╇━━━━━━━━━━━━━━━━━━━━━━━━━━━━━╇━━━━━━━━━━━━━━━━━┩\n",
              "│ embedding (\u001b[38;5;33mEmbedding\u001b[0m)                │ ?                           │     \u001b[38;5;34m0\u001b[0m (unbuilt) │\n",
              "├──────────────────────────────────────┼─────────────────────────────┼─────────────────┤\n",
              "│ bidirectional (\u001b[38;5;33mBidirectional\u001b[0m)        │ ?                           │     \u001b[38;5;34m0\u001b[0m (unbuilt) │\n",
              "├──────────────────────────────────────┼─────────────────────────────┼─────────────────┤\n",
              "│ bidirectional_1 (\u001b[38;5;33mBidirectional\u001b[0m)      │ ?                           │     \u001b[38;5;34m0\u001b[0m (unbuilt) │\n",
              "├──────────────────────────────────────┼─────────────────────────────┼─────────────────┤\n",
              "│ simple_rnn_2 (\u001b[38;5;33mSimpleRNN\u001b[0m)             │ ?                           │     \u001b[38;5;34m0\u001b[0m (unbuilt) │\n",
              "├──────────────────────────────────────┼─────────────────────────────┼─────────────────┤\n",
              "│ dropout (\u001b[38;5;33mDropout\u001b[0m)                    │ ?                           │               \u001b[38;5;34m0\u001b[0m │\n",
              "├──────────────────────────────────────┼─────────────────────────────┼─────────────────┤\n",
              "│ dense (\u001b[38;5;33mDense\u001b[0m)                        │ ?                           │     \u001b[38;5;34m0\u001b[0m (unbuilt) │\n",
              "└──────────────────────────────────────┴─────────────────────────────┴─────────────────┘\n"
            ],
            "text/html": [
              "<pre style=\"white-space:pre;overflow-x:auto;line-height:normal;font-family:Menlo,'DejaVu Sans Mono',consolas,'Courier New',monospace\">┏━━━━━━━━━━━━━━━━━━━━━━━━━━━━━━━━━━━━━━┳━━━━━━━━━━━━━━━━━━━━━━━━━━━━━┳━━━━━━━━━━━━━━━━━┓\n",
              "┃<span style=\"font-weight: bold\"> Layer (type)                         </span>┃<span style=\"font-weight: bold\"> Output Shape                </span>┃<span style=\"font-weight: bold\">         Param # </span>┃\n",
              "┡━━━━━━━━━━━━━━━━━━━━━━━━━━━━━━━━━━━━━━╇━━━━━━━━━━━━━━━━━━━━━━━━━━━━━╇━━━━━━━━━━━━━━━━━┩\n",
              "│ embedding (<span style=\"color: #0087ff; text-decoration-color: #0087ff\">Embedding</span>)                │ ?                           │     <span style=\"color: #00af00; text-decoration-color: #00af00\">0</span> (unbuilt) │\n",
              "├──────────────────────────────────────┼─────────────────────────────┼─────────────────┤\n",
              "│ bidirectional (<span style=\"color: #0087ff; text-decoration-color: #0087ff\">Bidirectional</span>)        │ ?                           │     <span style=\"color: #00af00; text-decoration-color: #00af00\">0</span> (unbuilt) │\n",
              "├──────────────────────────────────────┼─────────────────────────────┼─────────────────┤\n",
              "│ bidirectional_1 (<span style=\"color: #0087ff; text-decoration-color: #0087ff\">Bidirectional</span>)      │ ?                           │     <span style=\"color: #00af00; text-decoration-color: #00af00\">0</span> (unbuilt) │\n",
              "├──────────────────────────────────────┼─────────────────────────────┼─────────────────┤\n",
              "│ simple_rnn_2 (<span style=\"color: #0087ff; text-decoration-color: #0087ff\">SimpleRNN</span>)             │ ?                           │     <span style=\"color: #00af00; text-decoration-color: #00af00\">0</span> (unbuilt) │\n",
              "├──────────────────────────────────────┼─────────────────────────────┼─────────────────┤\n",
              "│ dropout (<span style=\"color: #0087ff; text-decoration-color: #0087ff\">Dropout</span>)                    │ ?                           │               <span style=\"color: #00af00; text-decoration-color: #00af00\">0</span> │\n",
              "├──────────────────────────────────────┼─────────────────────────────┼─────────────────┤\n",
              "│ dense (<span style=\"color: #0087ff; text-decoration-color: #0087ff\">Dense</span>)                        │ ?                           │     <span style=\"color: #00af00; text-decoration-color: #00af00\">0</span> (unbuilt) │\n",
              "└──────────────────────────────────────┴─────────────────────────────┴─────────────────┘\n",
              "</pre>\n"
            ]
          },
          "metadata": {}
        },
        {
          "output_type": "display_data",
          "data": {
            "text/plain": [
              "\u001b[1m Total params: \u001b[0m\u001b[38;5;34m0\u001b[0m (0.00 B)\n"
            ],
            "text/html": [
              "<pre style=\"white-space:pre;overflow-x:auto;line-height:normal;font-family:Menlo,'DejaVu Sans Mono',consolas,'Courier New',monospace\"><span style=\"font-weight: bold\"> Total params: </span><span style=\"color: #00af00; text-decoration-color: #00af00\">0</span> (0.00 B)\n",
              "</pre>\n"
            ]
          },
          "metadata": {}
        },
        {
          "output_type": "display_data",
          "data": {
            "text/plain": [
              "\u001b[1m Trainable params: \u001b[0m\u001b[38;5;34m0\u001b[0m (0.00 B)\n"
            ],
            "text/html": [
              "<pre style=\"white-space:pre;overflow-x:auto;line-height:normal;font-family:Menlo,'DejaVu Sans Mono',consolas,'Courier New',monospace\"><span style=\"font-weight: bold\"> Trainable params: </span><span style=\"color: #00af00; text-decoration-color: #00af00\">0</span> (0.00 B)\n",
              "</pre>\n"
            ]
          },
          "metadata": {}
        },
        {
          "output_type": "display_data",
          "data": {
            "text/plain": [
              "\u001b[1m Non-trainable params: \u001b[0m\u001b[38;5;34m0\u001b[0m (0.00 B)\n"
            ],
            "text/html": [
              "<pre style=\"white-space:pre;overflow-x:auto;line-height:normal;font-family:Menlo,'DejaVu Sans Mono',consolas,'Courier New',monospace\"><span style=\"font-weight: bold\"> Non-trainable params: </span><span style=\"color: #00af00; text-decoration-color: #00af00\">0</span> (0.00 B)\n",
              "</pre>\n"
            ]
          },
          "metadata": {}
        }
      ]
    },
    {
      "cell_type": "code",
      "source": [
        "model.compile(optimizer='adam', loss='categorical_crossentropy', metrics=['accuracy'])"
      ],
      "metadata": {
        "id": "jDZAf19CE28C"
      },
      "execution_count": null,
      "outputs": []
    },
    {
      "cell_type": "code",
      "source": [
        "earlystopping = keras.callbacks.EarlyStopping(monitor='accuracy', patience=3, verbose=1, mode='min')"
      ],
      "metadata": {
        "id": "BuwlJrdlFBsi"
      },
      "execution_count": null,
      "outputs": []
    },
    {
      "cell_type": "code",
      "source": [
        "checkpointer = ModelCheckpoint(filepath='bestvalue.keras', monitor='val_loss', verbose=0, save_best_only=True)"
      ],
      "metadata": {
        "id": "qBNrnKWZFZVq"
      },
      "execution_count": null,
      "outputs": []
    },
    {
      "cell_type": "code",
      "source": [
        "callback_list = [checkpointer, earlystopping]"
      ],
      "metadata": {
        "id": "mGF_2lHVFl8q"
      },
      "execution_count": null,
      "outputs": []
    },
    {
      "cell_type": "code",
      "source": [
        "history = model.fit(train_padseq, y_train, batch_size=120, epochs=15, validation_split=0.2)\n",
        "test_loss, test_acc = model.evaluate(test_padseq, y_test, verbose=0)"
      ],
      "metadata": {
        "colab": {
          "base_uri": "https://localhost:8080/"
        },
        "id": "ffdXqdxcFtiz",
        "outputId": "4fcfb4dd-a6fc-4e53-b95e-d1f220daa484"
      },
      "execution_count": null,
      "outputs": [
        {
          "output_type": "stream",
          "name": "stdout",
          "text": [
            "Epoch 1/15\n",
            "\u001b[1m12/12\u001b[0m \u001b[32m━━━━━━━━━━━━━━━━━━━━\u001b[0m\u001b[37m\u001b[0m \u001b[1m21s\u001b[0m 797ms/step - accuracy: 0.2275 - loss: 1.7821 - val_accuracy: 0.2444 - val_loss: 1.6483\n",
            "Epoch 2/15\n",
            "\u001b[1m12/12\u001b[0m \u001b[32m━━━━━━━━━━━━━━━━━━━━\u001b[0m\u001b[37m\u001b[0m \u001b[1m9s\u001b[0m 696ms/step - accuracy: 0.2304 - loss: 1.7389 - val_accuracy: 0.2079 - val_loss: 1.6835\n",
            "Epoch 3/15\n",
            "\u001b[1m12/12\u001b[0m \u001b[32m━━━━━━━━━━━━━━━━━━━━\u001b[0m\u001b[37m\u001b[0m \u001b[1m7s\u001b[0m 605ms/step - accuracy: 0.2041 - loss: 1.7362 - val_accuracy: 0.2303 - val_loss: 1.6545\n",
            "Epoch 4/15\n",
            "\u001b[1m12/12\u001b[0m \u001b[32m━━━━━━━━━━━━━━━━━━━━\u001b[0m\u001b[37m\u001b[0m \u001b[1m12s\u001b[0m 691ms/step - accuracy: 0.1984 - loss: 1.7651 - val_accuracy: 0.2612 - val_loss: 1.6332\n",
            "Epoch 5/15\n",
            "\u001b[1m12/12\u001b[0m \u001b[32m━━━━━━━━━━━━━━━━━━━━\u001b[0m\u001b[37m\u001b[0m \u001b[1m10s\u001b[0m 718ms/step - accuracy: 0.2078 - loss: 1.7092 - val_accuracy: 0.2528 - val_loss: 1.6269\n",
            "Epoch 6/15\n",
            "\u001b[1m12/12\u001b[0m \u001b[32m━━━━━━━━━━━━━━━━━━━━\u001b[0m\u001b[37m\u001b[0m \u001b[1m11s\u001b[0m 737ms/step - accuracy: 0.2274 - loss: 1.6777 - val_accuracy: 0.2247 - val_loss: 1.6315\n",
            "Epoch 7/15\n",
            "\u001b[1m12/12\u001b[0m \u001b[32m━━━━━━━━━━━━━━━━━━━━\u001b[0m\u001b[37m\u001b[0m \u001b[1m7s\u001b[0m 574ms/step - accuracy: 0.2327 - loss: 1.6638 - val_accuracy: 0.2135 - val_loss: 1.6062\n",
            "Epoch 8/15\n",
            "\u001b[1m12/12\u001b[0m \u001b[32m━━━━━━━━━━━━━━━━━━━━\u001b[0m\u001b[37m\u001b[0m \u001b[1m11s\u001b[0m 645ms/step - accuracy: 0.2331 - loss: 1.6292 - val_accuracy: 0.2191 - val_loss: 1.6117\n",
            "Epoch 9/15\n",
            "\u001b[1m12/12\u001b[0m \u001b[32m━━━━━━━━━━━━━━━━━━━━\u001b[0m\u001b[37m\u001b[0m \u001b[1m11s\u001b[0m 727ms/step - accuracy: 0.2476 - loss: 1.6296 - val_accuracy: 0.2528 - val_loss: 1.6127\n",
            "Epoch 10/15\n",
            "\u001b[1m12/12\u001b[0m \u001b[32m━━━━━━━━━━━━━━━━━━━━\u001b[0m\u001b[37m\u001b[0m \u001b[1m10s\u001b[0m 684ms/step - accuracy: 0.2520 - loss: 1.6352 - val_accuracy: 0.2388 - val_loss: 1.5939\n",
            "Epoch 11/15\n",
            "\u001b[1m12/12\u001b[0m \u001b[32m━━━━━━━━━━━━━━━━━━━━\u001b[0m\u001b[37m\u001b[0m \u001b[1m9s\u001b[0m 598ms/step - accuracy: 0.2401 - loss: 1.6331 - val_accuracy: 0.2865 - val_loss: 1.5872\n",
            "Epoch 12/15\n",
            "\u001b[1m12/12\u001b[0m \u001b[32m━━━━━━━━━━━━━━━━━━━━\u001b[0m\u001b[37m\u001b[0m \u001b[1m11s\u001b[0m 616ms/step - accuracy: 0.2579 - loss: 1.6048 - val_accuracy: 0.2837 - val_loss: 1.6036\n",
            "Epoch 13/15\n",
            "\u001b[1m12/12\u001b[0m \u001b[32m━━━━━━━━━━━━━━━━━━━━\u001b[0m\u001b[37m\u001b[0m \u001b[1m8s\u001b[0m 694ms/step - accuracy: 0.2758 - loss: 1.5868 - val_accuracy: 0.2500 - val_loss: 1.6068\n",
            "Epoch 14/15\n",
            "\u001b[1m12/12\u001b[0m \u001b[32m━━━━━━━━━━━━━━━━━━━━\u001b[0m\u001b[37m\u001b[0m \u001b[1m8s\u001b[0m 664ms/step - accuracy: 0.2912 - loss: 1.5549 - val_accuracy: 0.2640 - val_loss: 1.5947\n",
            "Epoch 15/15\n",
            "\u001b[1m12/12\u001b[0m \u001b[32m━━━━━━━━━━━━━━━━━━━━\u001b[0m\u001b[37m\u001b[0m \u001b[1m10s\u001b[0m 600ms/step - accuracy: 0.3368 - loss: 1.5237 - val_accuracy: 0.3118 - val_loss: 1.5863\n"
          ]
        }
      ]
    },
    {
      "cell_type": "code",
      "source": [
        "# Visualizar resultados\n",
        "acc = history.history['accuracy']\n",
        "val_acc = history.history['val_accuracy']\n",
        "\n",
        "loss = history.history['loss']\n",
        "val_loss = history.history['val_loss']\n",
        "\n",
        "epochs_range = range(15)\n",
        "\n",
        "plt.figure(figsize=(20, 8))\n",
        "plt.subplot(1, 2, 1)\n",
        "plt.plot(epochs_range, acc, label='Acurácia de Treinamento')\n",
        "plt.plot(epochs_range, val_acc, label='Acurácia de Validação')\n",
        "plt.legend(loc='lower right')\n",
        "plt.title('Acurácia de treinamento e validação')\n",
        "\n",
        "plt.subplot(1, 2, 2)\n",
        "plt.plot(epochs_range, loss, label='Erro de treinamento')\n",
        "plt.plot(epochs_range, val_loss, label='Erro de Validação')\n",
        "plt.legend(loc='upper right')\n",
        "plt.title('Erro de treinamento vs validação')\n",
        "plt.show()"
      ],
      "metadata": {
        "colab": {
          "base_uri": "https://localhost:8080/",
          "height": 283
        },
        "id": "MeOVccz3GFX0",
        "outputId": "3941c5f0-e08d-462b-b10a-af42f3bf396c"
      },
      "execution_count": null,
      "outputs": [
        {
          "output_type": "display_data",
          "data": {
            "text/plain": [
              "<Figure size 2000x800 with 2 Axes>"
            ],
            "image/png": "[encoded data removed]"
          },
          "metadata": {}
        }
      ]
    },
    {
      "cell_type": "code",
      "source": [
        "model2 = Sequential()\n",
        "model2.add(Embedding(total_words, 100, input_length=maxlen))\n",
        "model2.add(Bidirectional(LSTM(64, dropout=0.1, recurrent_dropout=0.10, activation='tanh', return_sequences=True))) # acrescentando camada LSTM\n",
        "model2.add(Bidirectional(LSTM(64, dropout=0.2, recurrent_dropout=0.20, activation='tanh', return_sequences=True))) # acrescentando camada LSTM\n",
        "model2.add(Bidirectional(SimpleRNN(64, dropout=0.2, recurrent_dropout=0.20, activation='tanh', return_sequences=True)))\n",
        "model2.add(Conv1D(72, 3, activation='relu'))\n",
        "model2.add(MaxPooling1D(2))\n",
        "model2.add(SimpleRNN(64, activation='tanh', dropout=0.2, recurrent_dropout=0.20, return_sequences=True))\n",
        "model2.add(GRU(64, recurrent_dropout=0.20)) # o GRU é projetado para superar o problema do desaparecimento de gradientes nas RNNs tradicionais e é especialmente eficaz em lidar com sequências de dados temporais.\n",
        "model2.add(Dropout(0.2))\n",
        "model2.add(Dense(5, activation='softmax'))\n",
        "model2.summary()"
      ],
      "metadata": {
        "colab": {
          "base_uri": "https://localhost:8080/",
          "height": 491
        },
        "id": "yx2ERZRrGxuz",
        "outputId": "7a9b053a-880d-4557-bff3-8e51686eb57e"
      },
      "execution_count": null,
      "outputs": [
        {
          "output_type": "display_data",
          "data": {
            "text/plain": [
              "\u001b[1mModel: \"sequential_2\"\u001b[0m\n"
            ],
            "text/html": [
              "<pre style=\"white-space:pre;overflow-x:auto;line-height:normal;font-family:Menlo,'DejaVu Sans Mono',consolas,'Courier New',monospace\"><span style=\"font-weight: bold\">Model: \"sequential_2\"</span>\n",
              "</pre>\n"
            ]
          },
          "metadata": {}
        },
        {
          "output_type": "display_data",
          "data": {
            "text/plain": [
              "┏━━━━━━━━━━━━━━━━━━━━━━━━━━━━━━━━━━━━━━┳━━━━━━━━━━━━━━━━━━━━━━━━━━━━━┳━━━━━━━━━━━━━━━━━┓\n",
              "┃\u001b[1m \u001b[0m\u001b[1mLayer (type)                        \u001b[0m\u001b[1m \u001b[0m┃\u001b[1m \u001b[0m\u001b[1mOutput Shape               \u001b[0m\u001b[1m \u001b[0m┃\u001b[1m \u001b[0m\u001b[1m        Param #\u001b[0m\u001b[1m \u001b[0m┃\n",
              "┡━━━━━━━━━━━━━━━━━━━━━━━━━━━━━━━━━━━━━━╇━━━━━━━━━━━━━━━━━━━━━━━━━━━━━╇━━━━━━━━━━━━━━━━━┩\n",
              "│ embedding_2 (\u001b[38;5;33mEmbedding\u001b[0m)              │ ?                           │     \u001b[38;5;34m0\u001b[0m (unbuilt) │\n",
              "├──────────────────────────────────────┼─────────────────────────────┼─────────────────┤\n",
              "│ bidirectional_5 (\u001b[38;5;33mBidirectional\u001b[0m)      │ ?                           │     \u001b[38;5;34m0\u001b[0m (unbuilt) │\n",
              "├──────────────────────────────────────┼─────────────────────────────┼─────────────────┤\n",
              "│ bidirectional_6 (\u001b[38;5;33mBidirectional\u001b[0m)      │ ?                           │     \u001b[38;5;34m0\u001b[0m (unbuilt) │\n",
              "├──────────────────────────────────────┼─────────────────────────────┼─────────────────┤\n",
              "│ bidirectional_7 (\u001b[38;5;33mBidirectional\u001b[0m)      │ ?                           │     \u001b[38;5;34m0\u001b[0m (unbuilt) │\n",
              "├──────────────────────────────────────┼─────────────────────────────┼─────────────────┤\n",
              "│ conv1d_1 (\u001b[38;5;33mConv1D\u001b[0m)                    │ ?                           │     \u001b[38;5;34m0\u001b[0m (unbuilt) │\n",
              "├──────────────────────────────────────┼─────────────────────────────┼─────────────────┤\n",
              "│ max_pooling1d_1 (\u001b[38;5;33mMaxPooling1D\u001b[0m)       │ ?                           │               \u001b[38;5;34m0\u001b[0m │\n",
              "├──────────────────────────────────────┼─────────────────────────────┼─────────────────┤\n",
              "│ simple_rnn_6 (\u001b[38;5;33mSimpleRNN\u001b[0m)             │ ?                           │     \u001b[38;5;34m0\u001b[0m (unbuilt) │\n",
              "├──────────────────────────────────────┼─────────────────────────────┼─────────────────┤\n",
              "│ gru (\u001b[38;5;33mGRU\u001b[0m)                            │ ?                           │     \u001b[38;5;34m0\u001b[0m (unbuilt) │\n",
              "├──────────────────────────────────────┼─────────────────────────────┼─────────────────┤\n",
              "│ dropout_1 (\u001b[38;5;33mDropout\u001b[0m)                  │ ?                           │               \u001b[38;5;34m0\u001b[0m │\n",
              "├──────────────────────────────────────┼─────────────────────────────┼─────────────────┤\n",
              "│ dense_1 (\u001b[38;5;33mDense\u001b[0m)                      │ ?                           │     \u001b[38;5;34m0\u001b[0m (unbuilt) │\n",
              "└──────────────────────────────────────┴─────────────────────────────┴─────────────────┘\n"
            ],
            "text/html": [
              "<pre style=\"white-space:pre;overflow-x:auto;line-height:normal;font-family:Menlo,'DejaVu Sans Mono',consolas,'Courier New',monospace\">┏━━━━━━━━━━━━━━━━━━━━━━━━━━━━━━━━━━━━━━┳━━━━━━━━━━━━━━━━━━━━━━━━━━━━━┳━━━━━━━━━━━━━━━━━┓\n",
              "┃<span style=\"font-weight: bold\"> Layer (type)                         </span>┃<span style=\"font-weight: bold\"> Output Shape                </span>┃<span style=\"font-weight: bold\">         Param # </span>┃\n",
              "┡━━━━━━━━━━━━━━━━━━━━━━━━━━━━━━━━━━━━━━╇━━━━━━━━━━━━━━━━━━━━━━━━━━━━━╇━━━━━━━━━━━━━━━━━┩\n",
              "│ embedding_2 (<span style=\"color: #0087ff; text-decoration-color: #0087ff\">Embedding</span>)              │ ?                           │     <span style=\"color: #00af00; text-decoration-color: #00af00\">0</span> (unbuilt) │\n",
              "├──────────────────────────────────────┼─────────────────────────────┼─────────────────┤\n",
              "│ bidirectional_5 (<span style=\"color: #0087ff; text-decoration-color: #0087ff\">Bidirectional</span>)      │ ?                           │     <span style=\"color: #00af00; text-decoration-color: #00af00\">0</span> (unbuilt) │\n",
              "├──────────────────────────────────────┼─────────────────────────────┼─────────────────┤\n",
              "│ bidirectional_6 (<span style=\"color: #0087ff; text-decoration-color: #0087ff\">Bidirectional</span>)      │ ?                           │     <span style=\"color: #00af00; text-decoration-color: #00af00\">0</span> (unbuilt) │\n",
              "├──────────────────────────────────────┼─────────────────────────────┼─────────────────┤\n",
              "│ bidirectional_7 (<span style=\"color: #0087ff; text-decoration-color: #0087ff\">Bidirectional</span>)      │ ?                           │     <span style=\"color: #00af00; text-decoration-color: #00af00\">0</span> (unbuilt) │\n",
              "├──────────────────────────────────────┼─────────────────────────────┼─────────────────┤\n",
              "│ conv1d_1 (<span style=\"color: #0087ff; text-decoration-color: #0087ff\">Conv1D</span>)                    │ ?                           │     <span style=\"color: #00af00; text-decoration-color: #00af00\">0</span> (unbuilt) │\n",
              "├──────────────────────────────────────┼─────────────────────────────┼─────────────────┤\n",
              "│ max_pooling1d_1 (<span style=\"color: #0087ff; text-decoration-color: #0087ff\">MaxPooling1D</span>)       │ ?                           │               <span style=\"color: #00af00; text-decoration-color: #00af00\">0</span> │\n",
              "├──────────────────────────────────────┼─────────────────────────────┼─────────────────┤\n",
              "│ simple_rnn_6 (<span style=\"color: #0087ff; text-decoration-color: #0087ff\">SimpleRNN</span>)             │ ?                           │     <span style=\"color: #00af00; text-decoration-color: #00af00\">0</span> (unbuilt) │\n",
              "├──────────────────────────────────────┼─────────────────────────────┼─────────────────┤\n",
              "│ gru (<span style=\"color: #0087ff; text-decoration-color: #0087ff\">GRU</span>)                            │ ?                           │     <span style=\"color: #00af00; text-decoration-color: #00af00\">0</span> (unbuilt) │\n",
              "├──────────────────────────────────────┼─────────────────────────────┼─────────────────┤\n",
              "│ dropout_1 (<span style=\"color: #0087ff; text-decoration-color: #0087ff\">Dropout</span>)                  │ ?                           │               <span style=\"color: #00af00; text-decoration-color: #00af00\">0</span> │\n",
              "├──────────────────────────────────────┼─────────────────────────────┼─────────────────┤\n",
              "│ dense_1 (<span style=\"color: #0087ff; text-decoration-color: #0087ff\">Dense</span>)                      │ ?                           │     <span style=\"color: #00af00; text-decoration-color: #00af00\">0</span> (unbuilt) │\n",
              "└──────────────────────────────────────┴─────────────────────────────┴─────────────────┘\n",
              "</pre>\n"
            ]
          },
          "metadata": {}
        },
        {
          "output_type": "display_data",
          "data": {
            "text/plain": [
              "\u001b[1m Total params: \u001b[0m\u001b[38;5;34m0\u001b[0m (0.00 B)\n"
            ],
            "text/html": [
              "<pre style=\"white-space:pre;overflow-x:auto;line-height:normal;font-family:Menlo,'DejaVu Sans Mono',consolas,'Courier New',monospace\"><span style=\"font-weight: bold\"> Total params: </span><span style=\"color: #00af00; text-decoration-color: #00af00\">0</span> (0.00 B)\n",
              "</pre>\n"
            ]
          },
          "metadata": {}
        },
        {
          "output_type": "display_data",
          "data": {
            "text/plain": [
              "\u001b[1m Trainable params: \u001b[0m\u001b[38;5;34m0\u001b[0m (0.00 B)\n"
            ],
            "text/html": [
              "<pre style=\"white-space:pre;overflow-x:auto;line-height:normal;font-family:Menlo,'DejaVu Sans Mono',consolas,'Courier New',monospace\"><span style=\"font-weight: bold\"> Trainable params: </span><span style=\"color: #00af00; text-decoration-color: #00af00\">0</span> (0.00 B)\n",
              "</pre>\n"
            ]
          },
          "metadata": {}
        },
        {
          "output_type": "display_data",
          "data": {
            "text/plain": [
              "\u001b[1m Non-trainable params: \u001b[0m\u001b[38;5;34m0\u001b[0m (0.00 B)\n"
            ],
            "text/html": [
              "<pre style=\"white-space:pre;overflow-x:auto;line-height:normal;font-family:Menlo,'DejaVu Sans Mono',consolas,'Courier New',monospace\"><span style=\"font-weight: bold\"> Non-trainable params: </span><span style=\"color: #00af00; text-decoration-color: #00af00\">0</span> (0.00 B)\n",
              "</pre>\n"
            ]
          },
          "metadata": {}
        }
      ]
    },
    {
      "cell_type": "code",
      "source": [
        "model2.compile(optimizer='adam', # Adam, que é um algoritmo de otimização amplamente utilizado para ajustar os pesos da rede neural durante o treinamento.\n",
        "            loss='categorical_crossentropy', # função de perda a ser minimizada durante o treinamento\n",
        "            metrics=['accuracy'] # métrica de avaliação para monitorar durante o treinamento\n",
        "            )\n",
        "# Configurando early stopping\n",
        "earlystopping = keras.callbacks.EarlyStopping(monitor='accuracy', # Monitora a métrica de precisão durante o treinamento\n",
        "                                             patience=3, # número de épocas que o treinamento pode continuar sem melhorar a métrica monitorada antes de parar\n",
        "                                              verbose=1, # mostra mensagens de progresso durante o treinamento\n",
        "                                              mode='min' # o treinamento é interrompido quando a métrica monitorada para de diminuir, no modo \"min\"\n",
        "                                             )\n",
        "# salva o modelo com os melhores valores encontrados durante o treinamento\n",
        "checkpointer = ModelCheckpoint(filepath='bestvalue.keras',monitor='val_loss', verbose=0, save_best_only=True)\n",
        "callback_list = [checkpointer, earlystopping]\n",
        "\n",
        "# treinando o modelo\n",
        "history = model2.fit(train_padseq, y_train,\n",
        "                   batch_size=120,\n",
        "                    epochs=15,\n",
        "                    validation_split=0.2\n",
        "                   )\n",
        "\n",
        "# validando o modelo\n",
        "test_loss, test_acc = model2.evaluate(test_padseq, y_test, verbose=0)\n",
        "print(\"test loss and accuracy:\", test_loss, test_acc)"
      ],
      "metadata": {
        "colab": {
          "base_uri": "https://localhost:8080/"
        },
        "id": "VbtD5CtIHBQ1",
        "outputId": "3eed95a8-c580-486e-c98d-becee191f03a"
      },
      "execution_count": null,
      "outputs": [
        {
          "output_type": "stream",
          "name": "stdout",
          "text": [
            "Epoch 1/15\n",
            "\u001b[1m12/12\u001b[0m \u001b[32m━━━━━━━━━━━━━━━━━━━━\u001b[0m\u001b[37m\u001b[0m \u001b[1m66s\u001b[0m 3s/step - accuracy: 0.1865 - loss: 1.6704 - val_accuracy: 0.2725 - val_loss: 1.5889\n",
            "Epoch 2/15\n",
            "\u001b[1m12/12\u001b[0m \u001b[32m━━━━━━━━━━━━━━━━━━━━\u001b[0m\u001b[37m\u001b[0m \u001b[1m36s\u001b[0m 3s/step - accuracy: 0.2261 - loss: 1.6467 - val_accuracy: 0.2416 - val_loss: 1.6000\n",
            "Epoch 3/15\n",
            "\u001b[1m12/12\u001b[0m \u001b[32m━━━━━━━━━━━━━━━━━━━━\u001b[0m\u001b[37m\u001b[0m \u001b[1m32s\u001b[0m 3s/step - accuracy: 0.2097 - loss: 1.6417 - val_accuracy: 0.2219 - val_loss: 1.6026\n",
            "Epoch 4/15\n",
            "\u001b[1m12/12\u001b[0m \u001b[32m━━━━━━━━━━━━━━━━━━━━\u001b[0m\u001b[37m\u001b[0m \u001b[1m39s\u001b[0m 3s/step - accuracy: 0.2132 - loss: 1.6356 - val_accuracy: 0.2163 - val_loss: 1.6095\n",
            "Epoch 5/15\n",
            "\u001b[1m12/12\u001b[0m \u001b[32m━━━━━━━━━━━━━━━━━━━━\u001b[0m\u001b[37m\u001b[0m \u001b[1m41s\u001b[0m 3s/step - accuracy: 0.2413 - loss: 1.6234 - val_accuracy: 0.2191 - val_loss: 1.6047\n",
            "Epoch 6/15\n",
            "\u001b[1m12/12\u001b[0m \u001b[32m━━━━━━━━━━━━━━━━━━━━\u001b[0m\u001b[37m\u001b[0m \u001b[1m30s\u001b[0m 3s/step - accuracy: 0.2022 - loss: 1.6354 - val_accuracy: 0.2191 - val_loss: 1.6077\n",
            "Epoch 7/15\n",
            "\u001b[1m12/12\u001b[0m \u001b[32m━━━━━━━━━━━━━━━━━━━━\u001b[0m\u001b[37m\u001b[0m \u001b[1m43s\u001b[0m 3s/step - accuracy: 0.2418 - loss: 1.6186 - val_accuracy: 0.2191 - val_loss: 1.6034\n",
            "Epoch 8/15\n",
            "\u001b[1m12/12\u001b[0m \u001b[32m━━━━━━━━━━━━━━━━━━━━\u001b[0m\u001b[37m\u001b[0m \u001b[1m31s\u001b[0m 3s/step - accuracy: 0.2558 - loss: 1.6068 - val_accuracy: 0.3680 - val_loss: 1.5900\n",
            "Epoch 9/15\n",
            "\u001b[1m12/12\u001b[0m \u001b[32m━━━━━━━━━━━━━━━━━━━━\u001b[0m\u001b[37m\u001b[0m \u001b[1m41s\u001b[0m 3s/step - accuracy: 0.2574 - loss: 1.6104 - val_accuracy: 0.3483 - val_loss: 1.5344\n",
            "Epoch 10/15\n",
            "\u001b[1m12/12\u001b[0m \u001b[32m━━━━━━━━━━━━━━━━━━━━\u001b[0m\u001b[37m\u001b[0m \u001b[1m40s\u001b[0m 3s/step - accuracy: 0.3232 - loss: 1.5420 - val_accuracy: 0.4045 - val_loss: 1.3300\n",
            "Epoch 11/15\n",
            "\u001b[1m12/12\u001b[0m \u001b[32m━━━━━━━━━━━━━━━━━━━━\u001b[0m\u001b[37m\u001b[0m \u001b[1m42s\u001b[0m 3s/step - accuracy: 0.4393 - loss: 1.3363 - val_accuracy: 0.4270 - val_loss: 1.2467\n",
            "Epoch 12/15\n",
            "\u001b[1m12/12\u001b[0m \u001b[32m━━━━━━━━━━━━━━━━━━━━\u001b[0m\u001b[37m\u001b[0m \u001b[1m31s\u001b[0m 3s/step - accuracy: 0.4608 - loss: 1.1175 - val_accuracy: 0.5421 - val_loss: 1.1225\n",
            "Epoch 13/15\n",
            "\u001b[1m12/12\u001b[0m \u001b[32m━━━━━━━━━━━━━━━━━━━━\u001b[0m\u001b[37m\u001b[0m \u001b[1m40s\u001b[0m 2s/step - accuracy: 0.5157 - loss: 1.0877 - val_accuracy: 0.5169 - val_loss: 1.1090\n",
            "Epoch 14/15\n",
            "\u001b[1m12/12\u001b[0m \u001b[32m━━━━━━━━━━━━━━━━━━━━\u001b[0m\u001b[37m\u001b[0m \u001b[1m31s\u001b[0m 3s/step - accuracy: 0.5601 - loss: 1.0159 - val_accuracy: 0.5955 - val_loss: 0.9557\n",
            "Epoch 15/15\n",
            "\u001b[1m12/12\u001b[0m \u001b[32m━━━━━━━━━━━━━━━━━━━━\u001b[0m\u001b[37m\u001b[0m \u001b[1m43s\u001b[0m 3s/step - accuracy: 0.6090 - loss: 0.8918 - val_accuracy: 0.6292 - val_loss: 0.8289\n",
            "test loss and accuracy: 0.8245047330856323 0.6202247142791748\n"
          ]
        }
      ]
    },
    {
      "cell_type": "code",
      "source": [
        "# Visualizar resultados\n",
        "acc = history.history['accuracy']\n",
        "val_acc = history.history['val_accuracy']\n",
        "\n",
        "loss = history.history['loss']\n",
        "val_loss = history.history['val_loss']\n",
        "\n",
        "epochs_range = range(15)\n",
        "\n",
        "plt.figure(figsize=(20, 8))\n",
        "plt.subplot(1, 2, 1)\n",
        "plt.plot(epochs_range, acc, label='Acurácia de Treinamento')\n",
        "plt.plot(epochs_range, val_acc, label='Acurácia de Validação')\n",
        "plt.legend(loc='lower right')\n",
        "plt.title('Acurácia de treinamento e validação')\n",
        "\n",
        "plt.subplot(1, 2, 2)\n",
        "plt.plot(epochs_range, loss, label='Erro de treinamento')\n",
        "plt.plot(epochs_range, val_loss, label='Erro de Validação')\n",
        "plt.legend(loc='upper right')\n",
        "plt.title('Erro de treinamento vs validação')\n",
        "plt.show()"
      ],
      "metadata": {
        "colab": {
          "base_uri": "https://localhost:8080/",
          "height": 285
        },
        "id": "9LJUCq0fHSVa",
        "outputId": "dfbe94a3-c5e7-4c5c-de9a-bffee1677c9e"
      },
      "execution_count": null,
      "outputs": [
        {
          "output_type": "display_data",
          "data": {
            "text/plain": [
              "<Figure size 2000x800 with 2 Axes>"
            ],
            "image/png": "[encoded data removed]"
          },
          "metadata": {}
        }
      ]
    },
    {
      "cell_type": "code",
      "source": [],
      "metadata": {
        "id": "O_3Q1grWHZFO"
      },
      "execution_count": null,
      "outputs": []
    }
  ]
}